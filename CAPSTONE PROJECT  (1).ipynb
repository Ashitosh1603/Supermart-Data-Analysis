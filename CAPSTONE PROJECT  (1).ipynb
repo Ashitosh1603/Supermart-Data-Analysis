{
 "cells": [
  {
   "cell_type": "markdown",
   "id": "86d02360",
   "metadata": {},
   "source": [
    "# Importing libraries\n"
   ]
  },
  {
   "cell_type": "code",
   "execution_count": 1,
   "id": "40c7f2fb",
   "metadata": {},
   "outputs": [],
   "source": [
    "import pandas as pd\n",
    "import numpy as np\n",
    "import matplotlib.pyplot as plt\n",
    "import seaborn as sns\n",
    "from sklearn.model_selection import train_test_split"
   ]
  },
  {
   "cell_type": "markdown",
   "id": "23870cac",
   "metadata": {},
   "source": [
    "# Importing and reading dataset"
   ]
  },
  {
   "cell_type": "code",
   "execution_count": 2,
   "id": "9a5bb25f",
   "metadata": {},
   "outputs": [],
   "source": [
    "supermarket = pd.read_csv(\"Supermart Grocery Sales - Retail Analytics Dataset.csv\")\n"
   ]
  },
  {
   "cell_type": "markdown",
   "id": "3bd76d0b",
   "metadata": {},
   "source": [
    "### Reading the first five rows of the dataset\n"
   ]
  },
  {
   "cell_type": "code",
   "execution_count": 3,
   "id": "144b9f03",
   "metadata": {
    "scrolled": true
   },
   "outputs": [
    {
     "data": {
      "text/html": [
       "<div>\n",
       "<style scoped>\n",
       "    .dataframe tbody tr th:only-of-type {\n",
       "        vertical-align: middle;\n",
       "    }\n",
       "\n",
       "    .dataframe tbody tr th {\n",
       "        vertical-align: top;\n",
       "    }\n",
       "\n",
       "    .dataframe thead th {\n",
       "        text-align: right;\n",
       "    }\n",
       "</style>\n",
       "<table border=\"1\" class=\"dataframe\">\n",
       "  <thead>\n",
       "    <tr style=\"text-align: right;\">\n",
       "      <th></th>\n",
       "      <th>Order ID</th>\n",
       "      <th>Customer Name</th>\n",
       "      <th>Category</th>\n",
       "      <th>Sub Category</th>\n",
       "      <th>City</th>\n",
       "      <th>Order Date</th>\n",
       "      <th>Quarters</th>\n",
       "      <th>Order Year</th>\n",
       "      <th>Region</th>\n",
       "      <th>Sales</th>\n",
       "      <th>Discount</th>\n",
       "      <th>Profit</th>\n",
       "      <th>State</th>\n",
       "    </tr>\n",
       "  </thead>\n",
       "  <tbody>\n",
       "    <tr>\n",
       "      <th>0</th>\n",
       "      <td>OD1</td>\n",
       "      <td>Harish</td>\n",
       "      <td>Oil &amp; Masala</td>\n",
       "      <td>Masalas</td>\n",
       "      <td>Vellore</td>\n",
       "      <td>11/8/2017</td>\n",
       "      <td>4</td>\n",
       "      <td>2017</td>\n",
       "      <td>North</td>\n",
       "      <td>1254</td>\n",
       "      <td>0.12</td>\n",
       "      <td>401.28</td>\n",
       "      <td>Tamil Nadu</td>\n",
       "    </tr>\n",
       "    <tr>\n",
       "      <th>1</th>\n",
       "      <td>OD2</td>\n",
       "      <td>Sudha</td>\n",
       "      <td>Beverages</td>\n",
       "      <td>Health Drinks</td>\n",
       "      <td>Krishnagiri</td>\n",
       "      <td>11/8/2017</td>\n",
       "      <td>4</td>\n",
       "      <td>2017</td>\n",
       "      <td>South</td>\n",
       "      <td>749</td>\n",
       "      <td>0.18</td>\n",
       "      <td>149.80</td>\n",
       "      <td>Tamil Nadu</td>\n",
       "    </tr>\n",
       "    <tr>\n",
       "      <th>2</th>\n",
       "      <td>OD3</td>\n",
       "      <td>Hussain</td>\n",
       "      <td>Food Grains</td>\n",
       "      <td>Atta &amp; Flour</td>\n",
       "      <td>Perambalur</td>\n",
       "      <td>6/12/2017</td>\n",
       "      <td>2</td>\n",
       "      <td>2017</td>\n",
       "      <td>West</td>\n",
       "      <td>2360</td>\n",
       "      <td>0.21</td>\n",
       "      <td>165.20</td>\n",
       "      <td>Tamil Nadu</td>\n",
       "    </tr>\n",
       "    <tr>\n",
       "      <th>3</th>\n",
       "      <td>OD4</td>\n",
       "      <td>Jackson</td>\n",
       "      <td>Fruits &amp; Veggies</td>\n",
       "      <td>Fresh Vegetables</td>\n",
       "      <td>Dharmapuri</td>\n",
       "      <td>10/11/2016</td>\n",
       "      <td>4</td>\n",
       "      <td>2016</td>\n",
       "      <td>South</td>\n",
       "      <td>896</td>\n",
       "      <td>0.25</td>\n",
       "      <td>89.60</td>\n",
       "      <td>Tamil Nadu</td>\n",
       "    </tr>\n",
       "    <tr>\n",
       "      <th>4</th>\n",
       "      <td>OD5</td>\n",
       "      <td>Ridhesh</td>\n",
       "      <td>Food Grains</td>\n",
       "      <td>Organic Staples</td>\n",
       "      <td>Ooty</td>\n",
       "      <td>10/11/2016</td>\n",
       "      <td>4</td>\n",
       "      <td>2016</td>\n",
       "      <td>South</td>\n",
       "      <td>2355</td>\n",
       "      <td>0.26</td>\n",
       "      <td>918.45</td>\n",
       "      <td>Tamil Nadu</td>\n",
       "    </tr>\n",
       "  </tbody>\n",
       "</table>\n",
       "</div>"
      ],
      "text/plain": [
       "  Order ID Customer Name          Category      Sub Category         City  \\\n",
       "0      OD1        Harish      Oil & Masala           Masalas      Vellore   \n",
       "1      OD2         Sudha         Beverages     Health Drinks  Krishnagiri   \n",
       "2      OD3       Hussain       Food Grains      Atta & Flour   Perambalur   \n",
       "3      OD4       Jackson  Fruits & Veggies  Fresh Vegetables   Dharmapuri   \n",
       "4      OD5       Ridhesh       Food Grains   Organic Staples         Ooty   \n",
       "\n",
       "   Order Date  Quarters  Order Year Region  Sales  Discount  Profit  \\\n",
       "0   11/8/2017         4        2017  North   1254      0.12  401.28   \n",
       "1   11/8/2017         4        2017  South    749      0.18  149.80   \n",
       "2   6/12/2017         2        2017   West   2360      0.21  165.20   \n",
       "3  10/11/2016         4        2016  South    896      0.25   89.60   \n",
       "4  10/11/2016         4        2016  South   2355      0.26  918.45   \n",
       "\n",
       "        State  \n",
       "0  Tamil Nadu  \n",
       "1  Tamil Nadu  \n",
       "2  Tamil Nadu  \n",
       "3  Tamil Nadu  \n",
       "4  Tamil Nadu  "
      ]
     },
     "execution_count": 3,
     "metadata": {},
     "output_type": "execute_result"
    }
   ],
   "source": [
    "supermarket.head()"
   ]
  },
  {
   "cell_type": "markdown",
   "id": "1a9acd2d",
   "metadata": {},
   "source": [
    "### Reading the last five rows of the dataset"
   ]
  },
  {
   "cell_type": "code",
   "execution_count": 4,
   "id": "a95e02b3",
   "metadata": {},
   "outputs": [
    {
     "data": {
      "text/html": [
       "<div>\n",
       "<style scoped>\n",
       "    .dataframe tbody tr th:only-of-type {\n",
       "        vertical-align: middle;\n",
       "    }\n",
       "\n",
       "    .dataframe tbody tr th {\n",
       "        vertical-align: top;\n",
       "    }\n",
       "\n",
       "    .dataframe thead th {\n",
       "        text-align: right;\n",
       "    }\n",
       "</style>\n",
       "<table border=\"1\" class=\"dataframe\">\n",
       "  <thead>\n",
       "    <tr style=\"text-align: right;\">\n",
       "      <th></th>\n",
       "      <th>Order ID</th>\n",
       "      <th>Customer Name</th>\n",
       "      <th>Category</th>\n",
       "      <th>Sub Category</th>\n",
       "      <th>City</th>\n",
       "      <th>Order Date</th>\n",
       "      <th>Quarters</th>\n",
       "      <th>Order Year</th>\n",
       "      <th>Region</th>\n",
       "      <th>Sales</th>\n",
       "      <th>Discount</th>\n",
       "      <th>Profit</th>\n",
       "      <th>State</th>\n",
       "    </tr>\n",
       "  </thead>\n",
       "  <tbody>\n",
       "    <tr>\n",
       "      <th>9989</th>\n",
       "      <td>OD9990</td>\n",
       "      <td>Sudeep</td>\n",
       "      <td>Eggs, Meat &amp; Fish</td>\n",
       "      <td>Eggs</td>\n",
       "      <td>Madurai</td>\n",
       "      <td>12/24/2015</td>\n",
       "      <td>4</td>\n",
       "      <td>2015</td>\n",
       "      <td>West</td>\n",
       "      <td>945</td>\n",
       "      <td>0.16</td>\n",
       "      <td>359.10</td>\n",
       "      <td>Tamil Nadu</td>\n",
       "    </tr>\n",
       "    <tr>\n",
       "      <th>9990</th>\n",
       "      <td>OD9991</td>\n",
       "      <td>Alan</td>\n",
       "      <td>Bakery</td>\n",
       "      <td>Biscuits</td>\n",
       "      <td>Kanyakumari</td>\n",
       "      <td>7/12/2015</td>\n",
       "      <td>3</td>\n",
       "      <td>2015</td>\n",
       "      <td>West</td>\n",
       "      <td>1195</td>\n",
       "      <td>0.26</td>\n",
       "      <td>71.70</td>\n",
       "      <td>Tamil Nadu</td>\n",
       "    </tr>\n",
       "    <tr>\n",
       "      <th>9991</th>\n",
       "      <td>OD9992</td>\n",
       "      <td>Ravi</td>\n",
       "      <td>Food Grains</td>\n",
       "      <td>Rice</td>\n",
       "      <td>Bodi</td>\n",
       "      <td>6/6/2017</td>\n",
       "      <td>2</td>\n",
       "      <td>2017</td>\n",
       "      <td>West</td>\n",
       "      <td>1567</td>\n",
       "      <td>0.16</td>\n",
       "      <td>501.44</td>\n",
       "      <td>Tamil Nadu</td>\n",
       "    </tr>\n",
       "    <tr>\n",
       "      <th>9992</th>\n",
       "      <td>OD9993</td>\n",
       "      <td>Peer</td>\n",
       "      <td>Oil &amp; Masala</td>\n",
       "      <td>Spices</td>\n",
       "      <td>Pudukottai</td>\n",
       "      <td>10/16/2018</td>\n",
       "      <td>4</td>\n",
       "      <td>2018</td>\n",
       "      <td>West</td>\n",
       "      <td>1659</td>\n",
       "      <td>0.15</td>\n",
       "      <td>597.24</td>\n",
       "      <td>Tamil Nadu</td>\n",
       "    </tr>\n",
       "    <tr>\n",
       "      <th>9993</th>\n",
       "      <td>OD9994</td>\n",
       "      <td>Ganesh</td>\n",
       "      <td>Food Grains</td>\n",
       "      <td>Atta &amp; Flour</td>\n",
       "      <td>Tirunelveli</td>\n",
       "      <td>4/17/2018</td>\n",
       "      <td>2</td>\n",
       "      <td>2018</td>\n",
       "      <td>West</td>\n",
       "      <td>1034</td>\n",
       "      <td>0.28</td>\n",
       "      <td>165.44</td>\n",
       "      <td>Tamil Nadu</td>\n",
       "    </tr>\n",
       "  </tbody>\n",
       "</table>\n",
       "</div>"
      ],
      "text/plain": [
       "     Order ID Customer Name           Category  Sub Category         City  \\\n",
       "9989   OD9990        Sudeep  Eggs, Meat & Fish          Eggs      Madurai   \n",
       "9990   OD9991          Alan             Bakery      Biscuits  Kanyakumari   \n",
       "9991   OD9992          Ravi        Food Grains          Rice         Bodi   \n",
       "9992   OD9993          Peer       Oil & Masala        Spices   Pudukottai   \n",
       "9993   OD9994        Ganesh        Food Grains  Atta & Flour  Tirunelveli   \n",
       "\n",
       "      Order Date  Quarters  Order Year Region  Sales  Discount  Profit  \\\n",
       "9989  12/24/2015         4        2015   West    945      0.16  359.10   \n",
       "9990   7/12/2015         3        2015   West   1195      0.26   71.70   \n",
       "9991    6/6/2017         2        2017   West   1567      0.16  501.44   \n",
       "9992  10/16/2018         4        2018   West   1659      0.15  597.24   \n",
       "9993   4/17/2018         2        2018   West   1034      0.28  165.44   \n",
       "\n",
       "           State  \n",
       "9989  Tamil Nadu  \n",
       "9990  Tamil Nadu  \n",
       "9991  Tamil Nadu  \n",
       "9992  Tamil Nadu  \n",
       "9993  Tamil Nadu  "
      ]
     },
     "execution_count": 4,
     "metadata": {},
     "output_type": "execute_result"
    }
   ],
   "source": [
    "supermarket.tail()"
   ]
  },
  {
   "cell_type": "markdown",
   "id": "2f93c44f",
   "metadata": {},
   "source": [
    "### Description of dataset"
   ]
  },
  {
   "cell_type": "code",
   "execution_count": 5,
   "id": "432cdb3a",
   "metadata": {},
   "outputs": [
    {
     "data": {
      "text/html": [
       "<div>\n",
       "<style scoped>\n",
       "    .dataframe tbody tr th:only-of-type {\n",
       "        vertical-align: middle;\n",
       "    }\n",
       "\n",
       "    .dataframe tbody tr th {\n",
       "        vertical-align: top;\n",
       "    }\n",
       "\n",
       "    .dataframe thead th {\n",
       "        text-align: right;\n",
       "    }\n",
       "</style>\n",
       "<table border=\"1\" class=\"dataframe\">\n",
       "  <thead>\n",
       "    <tr style=\"text-align: right;\">\n",
       "      <th></th>\n",
       "      <th>Quarters</th>\n",
       "      <th>Order Year</th>\n",
       "      <th>Sales</th>\n",
       "      <th>Discount</th>\n",
       "      <th>Profit</th>\n",
       "    </tr>\n",
       "  </thead>\n",
       "  <tbody>\n",
       "    <tr>\n",
       "      <th>count</th>\n",
       "      <td>9994.000000</td>\n",
       "      <td>9994.000000</td>\n",
       "      <td>9994.000000</td>\n",
       "      <td>9994.000000</td>\n",
       "      <td>9994.000000</td>\n",
       "    </tr>\n",
       "    <tr>\n",
       "      <th>mean</th>\n",
       "      <td>2.882329</td>\n",
       "      <td>2016.722233</td>\n",
       "      <td>1496.596158</td>\n",
       "      <td>0.226817</td>\n",
       "      <td>374.937082</td>\n",
       "    </tr>\n",
       "    <tr>\n",
       "      <th>std</th>\n",
       "      <td>1.058086</td>\n",
       "      <td>1.123555</td>\n",
       "      <td>577.559036</td>\n",
       "      <td>0.074636</td>\n",
       "      <td>239.932881</td>\n",
       "    </tr>\n",
       "    <tr>\n",
       "      <th>min</th>\n",
       "      <td>1.000000</td>\n",
       "      <td>2015.000000</td>\n",
       "      <td>500.000000</td>\n",
       "      <td>0.100000</td>\n",
       "      <td>25.250000</td>\n",
       "    </tr>\n",
       "    <tr>\n",
       "      <th>25%</th>\n",
       "      <td>2.000000</td>\n",
       "      <td>2016.000000</td>\n",
       "      <td>1000.000000</td>\n",
       "      <td>0.160000</td>\n",
       "      <td>180.022500</td>\n",
       "    </tr>\n",
       "    <tr>\n",
       "      <th>50%</th>\n",
       "      <td>3.000000</td>\n",
       "      <td>2017.000000</td>\n",
       "      <td>1498.000000</td>\n",
       "      <td>0.230000</td>\n",
       "      <td>320.780000</td>\n",
       "    </tr>\n",
       "    <tr>\n",
       "      <th>75%</th>\n",
       "      <td>4.000000</td>\n",
       "      <td>2018.000000</td>\n",
       "      <td>1994.750000</td>\n",
       "      <td>0.290000</td>\n",
       "      <td>525.627500</td>\n",
       "    </tr>\n",
       "    <tr>\n",
       "      <th>max</th>\n",
       "      <td>4.000000</td>\n",
       "      <td>2018.000000</td>\n",
       "      <td>2500.000000</td>\n",
       "      <td>0.350000</td>\n",
       "      <td>1120.950000</td>\n",
       "    </tr>\n",
       "  </tbody>\n",
       "</table>\n",
       "</div>"
      ],
      "text/plain": [
       "          Quarters   Order Year        Sales     Discount       Profit\n",
       "count  9994.000000  9994.000000  9994.000000  9994.000000  9994.000000\n",
       "mean      2.882329  2016.722233  1496.596158     0.226817   374.937082\n",
       "std       1.058086     1.123555   577.559036     0.074636   239.932881\n",
       "min       1.000000  2015.000000   500.000000     0.100000    25.250000\n",
       "25%       2.000000  2016.000000  1000.000000     0.160000   180.022500\n",
       "50%       3.000000  2017.000000  1498.000000     0.230000   320.780000\n",
       "75%       4.000000  2018.000000  1994.750000     0.290000   525.627500\n",
       "max       4.000000  2018.000000  2500.000000     0.350000  1120.950000"
      ]
     },
     "execution_count": 5,
     "metadata": {},
     "output_type": "execute_result"
    }
   ],
   "source": [
    "supermarket.describe()"
   ]
  },
  {
   "cell_type": "markdown",
   "id": "72108635",
   "metadata": {},
   "source": [
    "### Information of dataset"
   ]
  },
  {
   "cell_type": "code",
   "execution_count": 6,
   "id": "58d3984a",
   "metadata": {},
   "outputs": [
    {
     "name": "stdout",
     "output_type": "stream",
     "text": [
      "<class 'pandas.core.frame.DataFrame'>\n",
      "RangeIndex: 9994 entries, 0 to 9993\n",
      "Data columns (total 13 columns):\n",
      " #   Column         Non-Null Count  Dtype  \n",
      "---  ------         --------------  -----  \n",
      " 0   Order ID       9994 non-null   object \n",
      " 1   Customer Name  9994 non-null   object \n",
      " 2   Category       9994 non-null   object \n",
      " 3   Sub Category   9994 non-null   object \n",
      " 4   City           9994 non-null   object \n",
      " 5   Order Date     9994 non-null   object \n",
      " 6   Quarters       9994 non-null   int64  \n",
      " 7   Order Year     9994 non-null   int64  \n",
      " 8   Region         9994 non-null   object \n",
      " 9   Sales          9994 non-null   int64  \n",
      " 10  Discount       9994 non-null   float64\n",
      " 11  Profit         9994 non-null   float64\n",
      " 12  State          9994 non-null   object \n",
      "dtypes: float64(2), int64(3), object(8)\n",
      "memory usage: 1015.1+ KB\n"
     ]
    }
   ],
   "source": [
    "supermarket.info()"
   ]
  },
  {
   "cell_type": "markdown",
   "id": "543cf0cd",
   "metadata": {},
   "source": [
    "### Checking for null values\n"
   ]
  },
  {
   "cell_type": "code",
   "execution_count": 7,
   "id": "20569764",
   "metadata": {},
   "outputs": [
    {
     "data": {
      "text/plain": [
       "Order ID         0\n",
       "Customer Name    0\n",
       "Category         0\n",
       "Sub Category     0\n",
       "City             0\n",
       "Order Date       0\n",
       "Quarters         0\n",
       "Order Year       0\n",
       "Region           0\n",
       "Sales            0\n",
       "Discount         0\n",
       "Profit           0\n",
       "State            0\n",
       "dtype: int64"
      ]
     },
     "execution_count": 7,
     "metadata": {},
     "output_type": "execute_result"
    }
   ],
   "source": [
    "supermarket.isnull().sum()"
   ]
  },
  {
   "cell_type": "markdown",
   "id": "0ec392ae",
   "metadata": {},
   "source": [
    "### Viewing unique values"
   ]
  },
  {
   "cell_type": "markdown",
   "id": "ee5a5f0b",
   "metadata": {},
   "source": [
    "#### Financial Year's Ranging from 2015 to 2018"
   ]
  },
  {
   "cell_type": "code",
   "execution_count": 8,
   "id": "168f8f49",
   "metadata": {},
   "outputs": [
    {
     "data": {
      "text/html": [
       "<div>\n",
       "<style scoped>\n",
       "    .dataframe tbody tr th:only-of-type {\n",
       "        vertical-align: middle;\n",
       "    }\n",
       "\n",
       "    .dataframe tbody tr th {\n",
       "        vertical-align: top;\n",
       "    }\n",
       "\n",
       "    .dataframe thead th {\n",
       "        text-align: right;\n",
       "    }\n",
       "</style>\n",
       "<table border=\"1\" class=\"dataframe\">\n",
       "  <thead>\n",
       "    <tr style=\"text-align: right;\">\n",
       "      <th></th>\n",
       "      <th>0</th>\n",
       "    </tr>\n",
       "  </thead>\n",
       "  <tbody>\n",
       "    <tr>\n",
       "      <th>0</th>\n",
       "      <td>2017</td>\n",
       "    </tr>\n",
       "    <tr>\n",
       "      <th>1</th>\n",
       "      <td>2016</td>\n",
       "    </tr>\n",
       "    <tr>\n",
       "      <th>2</th>\n",
       "      <td>2015</td>\n",
       "    </tr>\n",
       "    <tr>\n",
       "      <th>3</th>\n",
       "      <td>2018</td>\n",
       "    </tr>\n",
       "  </tbody>\n",
       "</table>\n",
       "</div>"
      ],
      "text/plain": [
       "      0\n",
       "0  2017\n",
       "1  2016\n",
       "2  2015\n",
       "3  2018"
      ]
     },
     "execution_count": 8,
     "metadata": {},
     "output_type": "execute_result"
    }
   ],
   "source": [
    "pd.DataFrame(supermarket['Order Year'].unique())"
   ]
  },
  {
   "cell_type": "markdown",
   "id": "93979a81",
   "metadata": {},
   "source": [
    "#### The supermarket is spread about a total of 5 regions"
   ]
  },
  {
   "cell_type": "code",
   "execution_count": 9,
   "id": "1bd093db",
   "metadata": {},
   "outputs": [
    {
     "data": {
      "text/html": [
       "<div>\n",
       "<style scoped>\n",
       "    .dataframe tbody tr th:only-of-type {\n",
       "        vertical-align: middle;\n",
       "    }\n",
       "\n",
       "    .dataframe tbody tr th {\n",
       "        vertical-align: top;\n",
       "    }\n",
       "\n",
       "    .dataframe thead th {\n",
       "        text-align: right;\n",
       "    }\n",
       "</style>\n",
       "<table border=\"1\" class=\"dataframe\">\n",
       "  <thead>\n",
       "    <tr style=\"text-align: right;\">\n",
       "      <th></th>\n",
       "      <th>0</th>\n",
       "    </tr>\n",
       "  </thead>\n",
       "  <tbody>\n",
       "    <tr>\n",
       "      <th>0</th>\n",
       "      <td>North</td>\n",
       "    </tr>\n",
       "    <tr>\n",
       "      <th>1</th>\n",
       "      <td>South</td>\n",
       "    </tr>\n",
       "    <tr>\n",
       "      <th>2</th>\n",
       "      <td>West</td>\n",
       "    </tr>\n",
       "    <tr>\n",
       "      <th>3</th>\n",
       "      <td>Central</td>\n",
       "    </tr>\n",
       "    <tr>\n",
       "      <th>4</th>\n",
       "      <td>East</td>\n",
       "    </tr>\n",
       "  </tbody>\n",
       "</table>\n",
       "</div>"
      ],
      "text/plain": [
       "         0\n",
       "0    North\n",
       "1    South\n",
       "2     West\n",
       "3  Central\n",
       "4     East"
      ]
     },
     "execution_count": 9,
     "metadata": {},
     "output_type": "execute_result"
    }
   ],
   "source": [
    "pd.DataFrame(supermarket['Region'].unique())"
   ]
  },
  {
   "cell_type": "markdown",
   "id": "117f5fdf",
   "metadata": {},
   "source": [
    "#### The Supermarket is spread across 24 cities"
   ]
  },
  {
   "cell_type": "code",
   "execution_count": 10,
   "id": "99558046",
   "metadata": {},
   "outputs": [
    {
     "data": {
      "text/html": [
       "<div>\n",
       "<style scoped>\n",
       "    .dataframe tbody tr th:only-of-type {\n",
       "        vertical-align: middle;\n",
       "    }\n",
       "\n",
       "    .dataframe tbody tr th {\n",
       "        vertical-align: top;\n",
       "    }\n",
       "\n",
       "    .dataframe thead th {\n",
       "        text-align: right;\n",
       "    }\n",
       "</style>\n",
       "<table border=\"1\" class=\"dataframe\">\n",
       "  <thead>\n",
       "    <tr style=\"text-align: right;\">\n",
       "      <th></th>\n",
       "      <th>0</th>\n",
       "    </tr>\n",
       "  </thead>\n",
       "  <tbody>\n",
       "    <tr>\n",
       "      <th>0</th>\n",
       "      <td>Vellore</td>\n",
       "    </tr>\n",
       "    <tr>\n",
       "      <th>1</th>\n",
       "      <td>Krishnagiri</td>\n",
       "    </tr>\n",
       "    <tr>\n",
       "      <th>2</th>\n",
       "      <td>Perambalur</td>\n",
       "    </tr>\n",
       "    <tr>\n",
       "      <th>3</th>\n",
       "      <td>Dharmapuri</td>\n",
       "    </tr>\n",
       "    <tr>\n",
       "      <th>4</th>\n",
       "      <td>Ooty</td>\n",
       "    </tr>\n",
       "    <tr>\n",
       "      <th>5</th>\n",
       "      <td>Trichy</td>\n",
       "    </tr>\n",
       "    <tr>\n",
       "      <th>6</th>\n",
       "      <td>Ramanadhapuram</td>\n",
       "    </tr>\n",
       "    <tr>\n",
       "      <th>7</th>\n",
       "      <td>Tirunelveli</td>\n",
       "    </tr>\n",
       "    <tr>\n",
       "      <th>8</th>\n",
       "      <td>Chennai</td>\n",
       "    </tr>\n",
       "    <tr>\n",
       "      <th>9</th>\n",
       "      <td>Karur</td>\n",
       "    </tr>\n",
       "    <tr>\n",
       "      <th>10</th>\n",
       "      <td>Namakkal</td>\n",
       "    </tr>\n",
       "    <tr>\n",
       "      <th>11</th>\n",
       "      <td>Dindigul</td>\n",
       "    </tr>\n",
       "    <tr>\n",
       "      <th>12</th>\n",
       "      <td>Kanyakumari</td>\n",
       "    </tr>\n",
       "    <tr>\n",
       "      <th>13</th>\n",
       "      <td>Bodi</td>\n",
       "    </tr>\n",
       "    <tr>\n",
       "      <th>14</th>\n",
       "      <td>Tenkasi</td>\n",
       "    </tr>\n",
       "    <tr>\n",
       "      <th>15</th>\n",
       "      <td>Viluppuram</td>\n",
       "    </tr>\n",
       "    <tr>\n",
       "      <th>16</th>\n",
       "      <td>Madurai</td>\n",
       "    </tr>\n",
       "    <tr>\n",
       "      <th>17</th>\n",
       "      <td>Salem</td>\n",
       "    </tr>\n",
       "    <tr>\n",
       "      <th>18</th>\n",
       "      <td>Cumbum</td>\n",
       "    </tr>\n",
       "    <tr>\n",
       "      <th>19</th>\n",
       "      <td>Nagercoil</td>\n",
       "    </tr>\n",
       "    <tr>\n",
       "      <th>20</th>\n",
       "      <td>Pudukottai</td>\n",
       "    </tr>\n",
       "    <tr>\n",
       "      <th>21</th>\n",
       "      <td>Theni</td>\n",
       "    </tr>\n",
       "    <tr>\n",
       "      <th>22</th>\n",
       "      <td>Coimbatore</td>\n",
       "    </tr>\n",
       "    <tr>\n",
       "      <th>23</th>\n",
       "      <td>Virudhunagar</td>\n",
       "    </tr>\n",
       "  </tbody>\n",
       "</table>\n",
       "</div>"
      ],
      "text/plain": [
       "                 0\n",
       "0          Vellore\n",
       "1      Krishnagiri\n",
       "2       Perambalur\n",
       "3       Dharmapuri\n",
       "4             Ooty\n",
       "5           Trichy\n",
       "6   Ramanadhapuram\n",
       "7      Tirunelveli\n",
       "8          Chennai\n",
       "9            Karur\n",
       "10        Namakkal\n",
       "11        Dindigul\n",
       "12     Kanyakumari\n",
       "13            Bodi\n",
       "14         Tenkasi\n",
       "15      Viluppuram\n",
       "16         Madurai\n",
       "17           Salem\n",
       "18          Cumbum\n",
       "19       Nagercoil\n",
       "20      Pudukottai\n",
       "21           Theni\n",
       "22      Coimbatore\n",
       "23    Virudhunagar"
      ]
     },
     "execution_count": 10,
     "metadata": {},
     "output_type": "execute_result"
    }
   ],
   "source": [
    "pd.DataFrame(supermarket['City'].unique())"
   ]
  },
  {
   "cell_type": "markdown",
   "id": "f7b4066d",
   "metadata": {},
   "source": [
    "#### There are total of 7 unique categories"
   ]
  },
  {
   "cell_type": "code",
   "execution_count": 11,
   "id": "222b7649",
   "metadata": {
    "scrolled": false
   },
   "outputs": [
    {
     "data": {
      "text/html": [
       "<div>\n",
       "<style scoped>\n",
       "    .dataframe tbody tr th:only-of-type {\n",
       "        vertical-align: middle;\n",
       "    }\n",
       "\n",
       "    .dataframe tbody tr th {\n",
       "        vertical-align: top;\n",
       "    }\n",
       "\n",
       "    .dataframe thead th {\n",
       "        text-align: right;\n",
       "    }\n",
       "</style>\n",
       "<table border=\"1\" class=\"dataframe\">\n",
       "  <thead>\n",
       "    <tr style=\"text-align: right;\">\n",
       "      <th></th>\n",
       "      <th>0</th>\n",
       "    </tr>\n",
       "  </thead>\n",
       "  <tbody>\n",
       "    <tr>\n",
       "      <th>0</th>\n",
       "      <td>Oil &amp; Masala</td>\n",
       "    </tr>\n",
       "    <tr>\n",
       "      <th>1</th>\n",
       "      <td>Beverages</td>\n",
       "    </tr>\n",
       "    <tr>\n",
       "      <th>2</th>\n",
       "      <td>Food Grains</td>\n",
       "    </tr>\n",
       "    <tr>\n",
       "      <th>3</th>\n",
       "      <td>Fruits &amp; Veggies</td>\n",
       "    </tr>\n",
       "    <tr>\n",
       "      <th>4</th>\n",
       "      <td>Bakery</td>\n",
       "    </tr>\n",
       "    <tr>\n",
       "      <th>5</th>\n",
       "      <td>Snacks</td>\n",
       "    </tr>\n",
       "    <tr>\n",
       "      <th>6</th>\n",
       "      <td>Eggs, Meat &amp; Fish</td>\n",
       "    </tr>\n",
       "  </tbody>\n",
       "</table>\n",
       "</div>"
      ],
      "text/plain": [
       "                   0\n",
       "0       Oil & Masala\n",
       "1          Beverages\n",
       "2        Food Grains\n",
       "3   Fruits & Veggies\n",
       "4             Bakery\n",
       "5             Snacks\n",
       "6  Eggs, Meat & Fish"
      ]
     },
     "execution_count": 11,
     "metadata": {},
     "output_type": "execute_result"
    }
   ],
   "source": [
    "pd.DataFrame(supermarket['Category'].unique())"
   ]
  },
  {
   "cell_type": "markdown",
   "id": "8c8e056b",
   "metadata": {},
   "source": [
    "#### There are total of 23 unique sub categories"
   ]
  },
  {
   "cell_type": "code",
   "execution_count": 12,
   "id": "97f02f25",
   "metadata": {
    "scrolled": true
   },
   "outputs": [
    {
     "data": {
      "text/html": [
       "<div>\n",
       "<style scoped>\n",
       "    .dataframe tbody tr th:only-of-type {\n",
       "        vertical-align: middle;\n",
       "    }\n",
       "\n",
       "    .dataframe tbody tr th {\n",
       "        vertical-align: top;\n",
       "    }\n",
       "\n",
       "    .dataframe thead th {\n",
       "        text-align: right;\n",
       "    }\n",
       "</style>\n",
       "<table border=\"1\" class=\"dataframe\">\n",
       "  <thead>\n",
       "    <tr style=\"text-align: right;\">\n",
       "      <th></th>\n",
       "      <th>0</th>\n",
       "    </tr>\n",
       "  </thead>\n",
       "  <tbody>\n",
       "    <tr>\n",
       "      <th>0</th>\n",
       "      <td>Masalas</td>\n",
       "    </tr>\n",
       "    <tr>\n",
       "      <th>1</th>\n",
       "      <td>Health Drinks</td>\n",
       "    </tr>\n",
       "    <tr>\n",
       "      <th>2</th>\n",
       "      <td>Atta &amp; Flour</td>\n",
       "    </tr>\n",
       "    <tr>\n",
       "      <th>3</th>\n",
       "      <td>Fresh Vegetables</td>\n",
       "    </tr>\n",
       "    <tr>\n",
       "      <th>4</th>\n",
       "      <td>Organic Staples</td>\n",
       "    </tr>\n",
       "    <tr>\n",
       "      <th>5</th>\n",
       "      <td>Fresh Fruits</td>\n",
       "    </tr>\n",
       "    <tr>\n",
       "      <th>6</th>\n",
       "      <td>Biscuits</td>\n",
       "    </tr>\n",
       "    <tr>\n",
       "      <th>7</th>\n",
       "      <td>Cakes</td>\n",
       "    </tr>\n",
       "    <tr>\n",
       "      <th>8</th>\n",
       "      <td>Chocolates</td>\n",
       "    </tr>\n",
       "    <tr>\n",
       "      <th>9</th>\n",
       "      <td>Eggs</td>\n",
       "    </tr>\n",
       "    <tr>\n",
       "      <th>10</th>\n",
       "      <td>Cookies</td>\n",
       "    </tr>\n",
       "    <tr>\n",
       "      <th>11</th>\n",
       "      <td>Chicken</td>\n",
       "    </tr>\n",
       "    <tr>\n",
       "      <th>12</th>\n",
       "      <td>Edible Oil &amp; Ghee</td>\n",
       "    </tr>\n",
       "    <tr>\n",
       "      <th>13</th>\n",
       "      <td>Mutton</td>\n",
       "    </tr>\n",
       "    <tr>\n",
       "      <th>14</th>\n",
       "      <td>Soft Drinks</td>\n",
       "    </tr>\n",
       "    <tr>\n",
       "      <th>15</th>\n",
       "      <td>Dals &amp; Pulses</td>\n",
       "    </tr>\n",
       "    <tr>\n",
       "      <th>16</th>\n",
       "      <td>Organic Vegetables</td>\n",
       "    </tr>\n",
       "    <tr>\n",
       "      <th>17</th>\n",
       "      <td>Noodles</td>\n",
       "    </tr>\n",
       "    <tr>\n",
       "      <th>18</th>\n",
       "      <td>Organic Fruits</td>\n",
       "    </tr>\n",
       "    <tr>\n",
       "      <th>19</th>\n",
       "      <td>Fish</td>\n",
       "    </tr>\n",
       "    <tr>\n",
       "      <th>20</th>\n",
       "      <td>Spices</td>\n",
       "    </tr>\n",
       "    <tr>\n",
       "      <th>21</th>\n",
       "      <td>Rice</td>\n",
       "    </tr>\n",
       "    <tr>\n",
       "      <th>22</th>\n",
       "      <td>Breads &amp; Buns</td>\n",
       "    </tr>\n",
       "  </tbody>\n",
       "</table>\n",
       "</div>"
      ],
      "text/plain": [
       "                     0\n",
       "0              Masalas\n",
       "1        Health Drinks\n",
       "2         Atta & Flour\n",
       "3     Fresh Vegetables\n",
       "4      Organic Staples\n",
       "5         Fresh Fruits\n",
       "6             Biscuits\n",
       "7                Cakes\n",
       "8           Chocolates\n",
       "9                 Eggs\n",
       "10             Cookies\n",
       "11             Chicken\n",
       "12   Edible Oil & Ghee\n",
       "13              Mutton\n",
       "14         Soft Drinks\n",
       "15       Dals & Pulses\n",
       "16  Organic Vegetables\n",
       "17             Noodles\n",
       "18      Organic Fruits\n",
       "19                Fish\n",
       "20              Spices\n",
       "21                Rice\n",
       "22       Breads & Buns"
      ]
     },
     "execution_count": 12,
     "metadata": {},
     "output_type": "execute_result"
    }
   ],
   "source": [
    "pd.DataFrame(supermarket['Sub Category'].unique())"
   ]
  },
  {
   "cell_type": "markdown",
   "id": "d89d92ac",
   "metadata": {},
   "source": [
    "# Visualizations"
   ]
  },
  {
   "cell_type": "markdown",
   "id": "d0eefad8",
   "metadata": {},
   "source": [
    "### YoY Sales and Profit"
   ]
  },
  {
   "cell_type": "code",
   "execution_count": 13,
   "id": "eb3b840f",
   "metadata": {},
   "outputs": [],
   "source": [
    "YoYSalesProfit = supermarket[['Order Year','Sales','Profit']].groupby(['Order Year']).sum().sort_values('Sales',ascending=True)\n"
   ]
  },
  {
   "cell_type": "code",
   "execution_count": 14,
   "id": "592c7db7",
   "metadata": {},
   "outputs": [
    {
     "data": {
      "text/html": [
       "<div>\n",
       "<style scoped>\n",
       "    .dataframe tbody tr th:only-of-type {\n",
       "        vertical-align: middle;\n",
       "    }\n",
       "\n",
       "    .dataframe tbody tr th {\n",
       "        vertical-align: top;\n",
       "    }\n",
       "\n",
       "    .dataframe thead th {\n",
       "        text-align: right;\n",
       "    }\n",
       "</style>\n",
       "<table border=\"1\" class=\"dataframe\">\n",
       "  <thead>\n",
       "    <tr style=\"text-align: right;\">\n",
       "      <th></th>\n",
       "      <th>Sales</th>\n",
       "      <th>Profit</th>\n",
       "    </tr>\n",
       "    <tr>\n",
       "      <th>Order Year</th>\n",
       "      <th></th>\n",
       "      <th></th>\n",
       "    </tr>\n",
       "  </thead>\n",
       "  <tbody>\n",
       "    <tr>\n",
       "      <th>2015</th>\n",
       "      <td>2975599</td>\n",
       "      <td>752529.11</td>\n",
       "    </tr>\n",
       "    <tr>\n",
       "      <th>2016</th>\n",
       "      <td>3131959</td>\n",
       "      <td>797192.99</td>\n",
       "    </tr>\n",
       "    <tr>\n",
       "      <th>2017</th>\n",
       "      <td>3871912</td>\n",
       "      <td>953216.22</td>\n",
       "    </tr>\n",
       "    <tr>\n",
       "      <th>2018</th>\n",
       "      <td>4977512</td>\n",
       "      <td>1244182.88</td>\n",
       "    </tr>\n",
       "  </tbody>\n",
       "</table>\n",
       "</div>"
      ],
      "text/plain": [
       "              Sales      Profit\n",
       "Order Year                     \n",
       "2015        2975599   752529.11\n",
       "2016        3131959   797192.99\n",
       "2017        3871912   953216.22\n",
       "2018        4977512  1244182.88"
      ]
     },
     "execution_count": 14,
     "metadata": {},
     "output_type": "execute_result"
    }
   ],
   "source": [
    "YoYSalesProfit"
   ]
  },
  {
   "cell_type": "markdown",
   "id": "289606fe",
   "metadata": {},
   "source": [
    "### Problem statement : Highest and lowest sales and profit \n",
    "#### The Highest sales and profit were recorded in 2018 i.e Sales =  4977512  Profit =  1244182.88\n",
    "#### The lowest sales and profit were recorded in 2015 i.e Sales =  2975599 Profit =  752529.11"
   ]
  },
  {
   "cell_type": "code",
   "execution_count": 15,
   "id": "bf900023",
   "metadata": {
    "scrolled": true
   },
   "outputs": [
    {
     "data": {
      "text/plain": [
       "<AxesSubplot:title={'center':'YoY Sales and Profit'}, xlabel='Order Year', ylabel='Sales and Profit'>"
      ]
     },
     "execution_count": 15,
     "metadata": {},
     "output_type": "execute_result"
    },
    {
     "data": {
      "image/png": "[encoded data removed]",
      "text/plain": [
       "<Figure size 400x400 with 1 Axes>"
      ]
     },
     "metadata": {},
     "output_type": "display_data"
    }
   ],
   "source": [
    "YoYSalesProfit.plot(kind='bar',figsize = (4,4),title= \"YoY Sales and Profit\",xlabel = \"Order Year\",ylabel= \"Sales and Profit\")"
   ]
  },
  {
   "cell_type": "markdown",
   "id": "84b60389",
   "metadata": {},
   "source": [
    "### YoY Quarterly Sales and Profit"
   ]
  },
  {
   "cell_type": "code",
   "execution_count": 16,
   "id": "7262d579",
   "metadata": {},
   "outputs": [],
   "source": [
    "QuarterSalesProfit = supermarket[['Order Year','Quarters','Sales','Profit']].groupby(['Order Year','Quarters']).sum().sort_values('Quarters',ascending=True)\n"
   ]
  },
  {
   "cell_type": "markdown",
   "id": "aaaf7ee9",
   "metadata": {},
   "source": [
    "#### Problem statement : Highest and lowest quarterly sales and profit\n",
    "#### Lowest Sales were recorded in the 1st quarter of 2016 Over here it dipped from the first quarter in 2015\n",
    "#### Highest sales were recorded in the 4th quarter of 2018 "
   ]
  },
  {
   "cell_type": "code",
   "execution_count": 17,
   "id": "de12d5b9",
   "metadata": {
    "scrolled": true
   },
   "outputs": [
    {
     "data": {
      "text/html": [
       "<div>\n",
       "<style scoped>\n",
       "    .dataframe tbody tr th:only-of-type {\n",
       "        vertical-align: middle;\n",
       "    }\n",
       "\n",
       "    .dataframe tbody tr th {\n",
       "        vertical-align: top;\n",
       "    }\n",
       "\n",
       "    .dataframe thead th {\n",
       "        text-align: right;\n",
       "    }\n",
       "</style>\n",
       "<table border=\"1\" class=\"dataframe\">\n",
       "  <thead>\n",
       "    <tr style=\"text-align: right;\">\n",
       "      <th></th>\n",
       "      <th></th>\n",
       "      <th>Sales</th>\n",
       "      <th>Profit</th>\n",
       "    </tr>\n",
       "    <tr>\n",
       "      <th>Order Year</th>\n",
       "      <th>Quarters</th>\n",
       "      <th></th>\n",
       "      <th></th>\n",
       "    </tr>\n",
       "  </thead>\n",
       "  <tbody>\n",
       "    <tr>\n",
       "      <th>2015</th>\n",
       "      <th>1</th>\n",
       "      <td>435683</td>\n",
       "      <td>117293.22</td>\n",
       "    </tr>\n",
       "    <tr>\n",
       "      <th>2016</th>\n",
       "      <th>1</th>\n",
       "      <td>391996</td>\n",
       "      <td>102663.52</td>\n",
       "    </tr>\n",
       "    <tr>\n",
       "      <th>2017</th>\n",
       "      <th>1</th>\n",
       "      <td>503665</td>\n",
       "      <td>121612.13</td>\n",
       "    </tr>\n",
       "    <tr>\n",
       "      <th>2018</th>\n",
       "      <th>1</th>\n",
       "      <td>756710</td>\n",
       "      <td>184379.19</td>\n",
       "    </tr>\n",
       "    <tr>\n",
       "      <th>2015</th>\n",
       "      <th>2</th>\n",
       "      <td>573585</td>\n",
       "      <td>140919.51</td>\n",
       "    </tr>\n",
       "    <tr>\n",
       "      <th>2016</th>\n",
       "      <th>2</th>\n",
       "      <td>665382</td>\n",
       "      <td>169585.28</td>\n",
       "    </tr>\n",
       "    <tr>\n",
       "      <th>2017</th>\n",
       "      <th>2</th>\n",
       "      <td>871751</td>\n",
       "      <td>210517.97</td>\n",
       "    </tr>\n",
       "    <tr>\n",
       "      <th>2018</th>\n",
       "      <th>2</th>\n",
       "      <td>1032463</td>\n",
       "      <td>253393.77</td>\n",
       "    </tr>\n",
       "    <tr>\n",
       "      <th>2015</th>\n",
       "      <th>3</th>\n",
       "      <td>833347</td>\n",
       "      <td>203222.73</td>\n",
       "    </tr>\n",
       "    <tr>\n",
       "      <th>2016</th>\n",
       "      <th>3</th>\n",
       "      <td>874977</td>\n",
       "      <td>224365.30</td>\n",
       "    </tr>\n",
       "    <tr>\n",
       "      <th>2017</th>\n",
       "      <th>3</th>\n",
       "      <td>1118348</td>\n",
       "      <td>281065.07</td>\n",
       "    </tr>\n",
       "    <tr>\n",
       "      <th>2018</th>\n",
       "      <th>3</th>\n",
       "      <td>1373786</td>\n",
       "      <td>342642.12</td>\n",
       "    </tr>\n",
       "    <tr>\n",
       "      <th>2015</th>\n",
       "      <th>4</th>\n",
       "      <td>1132984</td>\n",
       "      <td>291093.65</td>\n",
       "    </tr>\n",
       "    <tr>\n",
       "      <th>2016</th>\n",
       "      <th>4</th>\n",
       "      <td>1199604</td>\n",
       "      <td>300578.89</td>\n",
       "    </tr>\n",
       "    <tr>\n",
       "      <th>2017</th>\n",
       "      <th>4</th>\n",
       "      <td>1378148</td>\n",
       "      <td>340021.05</td>\n",
       "    </tr>\n",
       "    <tr>\n",
       "      <th>2018</th>\n",
       "      <th>4</th>\n",
       "      <td>1814553</td>\n",
       "      <td>463767.80</td>\n",
       "    </tr>\n",
       "  </tbody>\n",
       "</table>\n",
       "</div>"
      ],
      "text/plain": [
       "                       Sales     Profit\n",
       "Order Year Quarters                    \n",
       "2015       1          435683  117293.22\n",
       "2016       1          391996  102663.52\n",
       "2017       1          503665  121612.13\n",
       "2018       1          756710  184379.19\n",
       "2015       2          573585  140919.51\n",
       "2016       2          665382  169585.28\n",
       "2017       2          871751  210517.97\n",
       "2018       2         1032463  253393.77\n",
       "2015       3          833347  203222.73\n",
       "2016       3          874977  224365.30\n",
       "2017       3         1118348  281065.07\n",
       "2018       3         1373786  342642.12\n",
       "2015       4         1132984  291093.65\n",
       "2016       4         1199604  300578.89\n",
       "2017       4         1378148  340021.05\n",
       "2018       4         1814553  463767.80"
      ]
     },
     "execution_count": 17,
     "metadata": {},
     "output_type": "execute_result"
    }
   ],
   "source": [
    "QuarterSalesProfit"
   ]
  },
  {
   "cell_type": "code",
   "execution_count": 18,
   "id": "6549ec68",
   "metadata": {},
   "outputs": [
    {
     "data": {
      "text/plain": [
       "<AxesSubplot:title={'center':'Quarter Sales and Profit'}, xlabel='Quarters', ylabel='Sales and Profit'>"
      ]
     },
     "execution_count": 18,
     "metadata": {},
     "output_type": "execute_result"
    },
    {
     "data": {
      "image/png": "[encoded data removed]",
      "text/plain": [
       "<Figure size 600x600 with 1 Axes>"
      ]
     },
     "metadata": {},
     "output_type": "display_data"
    }
   ],
   "source": [
    "QuarterSalesProfit.plot(kind='bar',figsize = (6,6),title= \"Quarter Sales and Profit\",xlabel = \"Quarters\",ylabel= \"Sales and Profit\")"
   ]
  },
  {
   "cell_type": "markdown",
   "id": "5cbbd653",
   "metadata": {},
   "source": [
    "### YoY Discount and Sales"
   ]
  },
  {
   "cell_type": "code",
   "execution_count": 19,
   "id": "2ff82358",
   "metadata": {},
   "outputs": [],
   "source": [
    "YoYDiscount = supermarket[['Order Year','Sales','Discount']].groupby(['Order Year']).sum().sort_values('Order Year',ascending=True)\n"
   ]
  },
  {
   "cell_type": "markdown",
   "id": "460c0e65",
   "metadata": {},
   "source": [
    "#### Higher the discount , higher were the sales"
   ]
  },
  {
   "cell_type": "code",
   "execution_count": 20,
   "id": "9fa5c7da",
   "metadata": {
    "scrolled": true
   },
   "outputs": [
    {
     "data": {
      "text/html": [
       "<div>\n",
       "<style scoped>\n",
       "    .dataframe tbody tr th:only-of-type {\n",
       "        vertical-align: middle;\n",
       "    }\n",
       "\n",
       "    .dataframe tbody tr th {\n",
       "        vertical-align: top;\n",
       "    }\n",
       "\n",
       "    .dataframe thead th {\n",
       "        text-align: right;\n",
       "    }\n",
       "</style>\n",
       "<table border=\"1\" class=\"dataframe\">\n",
       "  <thead>\n",
       "    <tr style=\"text-align: right;\">\n",
       "      <th></th>\n",
       "      <th>Sales</th>\n",
       "      <th>Discount</th>\n",
       "    </tr>\n",
       "    <tr>\n",
       "      <th>Order Year</th>\n",
       "      <th></th>\n",
       "      <th></th>\n",
       "    </tr>\n",
       "  </thead>\n",
       "  <tbody>\n",
       "    <tr>\n",
       "      <th>2015</th>\n",
       "      <td>2975599</td>\n",
       "      <td>456.06</td>\n",
       "    </tr>\n",
       "    <tr>\n",
       "      <th>2016</th>\n",
       "      <td>3131959</td>\n",
       "      <td>477.91</td>\n",
       "    </tr>\n",
       "    <tr>\n",
       "      <th>2017</th>\n",
       "      <td>3871912</td>\n",
       "      <td>588.19</td>\n",
       "    </tr>\n",
       "    <tr>\n",
       "      <th>2018</th>\n",
       "      <td>4977512</td>\n",
       "      <td>744.65</td>\n",
       "    </tr>\n",
       "  </tbody>\n",
       "</table>\n",
       "</div>"
      ],
      "text/plain": [
       "              Sales  Discount\n",
       "Order Year                   \n",
       "2015        2975599    456.06\n",
       "2016        3131959    477.91\n",
       "2017        3871912    588.19\n",
       "2018        4977512    744.65"
      ]
     },
     "execution_count": 20,
     "metadata": {},
     "output_type": "execute_result"
    }
   ],
   "source": [
    "YoYDiscount"
   ]
  },
  {
   "cell_type": "markdown",
   "id": "ae7666b8",
   "metadata": {},
   "source": [
    "### YoY Discount"
   ]
  },
  {
   "cell_type": "code",
   "execution_count": 49,
   "id": "6ec66c6c",
   "metadata": {},
   "outputs": [],
   "source": [
    "YoYDiscount1 = supermarket[['Order Year','Discount']].groupby(['Order Year']).sum().sort_values('Order Year',ascending=True)\n"
   ]
  },
  {
   "cell_type": "code",
   "execution_count": 50,
   "id": "21571b50",
   "metadata": {},
   "outputs": [
    {
     "data": {
      "text/html": [
       "<div>\n",
       "<style scoped>\n",
       "    .dataframe tbody tr th:only-of-type {\n",
       "        vertical-align: middle;\n",
       "    }\n",
       "\n",
       "    .dataframe tbody tr th {\n",
       "        vertical-align: top;\n",
       "    }\n",
       "\n",
       "    .dataframe thead th {\n",
       "        text-align: right;\n",
       "    }\n",
       "</style>\n",
       "<table border=\"1\" class=\"dataframe\">\n",
       "  <thead>\n",
       "    <tr style=\"text-align: right;\">\n",
       "      <th></th>\n",
       "      <th>Discount</th>\n",
       "    </tr>\n",
       "    <tr>\n",
       "      <th>Order Year</th>\n",
       "      <th></th>\n",
       "    </tr>\n",
       "  </thead>\n",
       "  <tbody>\n",
       "    <tr>\n",
       "      <th>2015</th>\n",
       "      <td>456.06</td>\n",
       "    </tr>\n",
       "    <tr>\n",
       "      <th>2016</th>\n",
       "      <td>477.91</td>\n",
       "    </tr>\n",
       "    <tr>\n",
       "      <th>2017</th>\n",
       "      <td>588.19</td>\n",
       "    </tr>\n",
       "    <tr>\n",
       "      <th>2018</th>\n",
       "      <td>744.65</td>\n",
       "    </tr>\n",
       "  </tbody>\n",
       "</table>\n",
       "</div>"
      ],
      "text/plain": [
       "            Discount\n",
       "Order Year          \n",
       "2015          456.06\n",
       "2016          477.91\n",
       "2017          588.19\n",
       "2018          744.65"
      ]
     },
     "execution_count": 50,
     "metadata": {},
     "output_type": "execute_result"
    }
   ],
   "source": [
    "YoYDiscount1"
   ]
  },
  {
   "cell_type": "markdown",
   "id": "91847ebd",
   "metadata": {},
   "source": [
    "## Increasing the discount YoY\n",
    "## Problem statement : Which year gave the highest discount\n",
    "### Highest discount was given in 2018"
   ]
  },
  {
   "cell_type": "code",
   "execution_count": 23,
   "id": "58158138",
   "metadata": {},
   "outputs": [
    {
     "data": {
      "text/plain": [
       "array([<AxesSubplot:ylabel='Discount'>], dtype=object)"
      ]
     },
     "execution_count": 23,
     "metadata": {},
     "output_type": "execute_result"
    },
    {
     "data": {
      "image/png": "[encoded data removed]",
      "text/plain": [
       "<Figure size 600x600 with 1 Axes>"
      ]
     },
     "metadata": {},
     "output_type": "display_data"
    }
   ],
   "source": [
    "YoYDiscount1.plot(kind='pie',figsize = (6,6),title= \"Discount\",subplots = True , startangle = 90,shadow = True, autopct = \"%1.1f%%\",explode=(0,0,0,0.1)) "
   ]
  },
  {
   "cell_type": "markdown",
   "id": "822eead1",
   "metadata": {},
   "source": [
    "### For Regional Sales and Profit"
   ]
  },
  {
   "cell_type": "code",
   "execution_count": 24,
   "id": "dfa76c00",
   "metadata": {},
   "outputs": [],
   "source": [
    "RegionSalesProfit = supermarket[['Region','Sales','Profit']].groupby(['Region']).sum().sort_values('Region',ascending=True)\n"
   ]
  },
  {
   "cell_type": "code",
   "execution_count": 25,
   "id": "b023eb4a",
   "metadata": {},
   "outputs": [
    {
     "data": {
      "text/html": [
       "<div>\n",
       "<style scoped>\n",
       "    .dataframe tbody tr th:only-of-type {\n",
       "        vertical-align: middle;\n",
       "    }\n",
       "\n",
       "    .dataframe tbody tr th {\n",
       "        vertical-align: top;\n",
       "    }\n",
       "\n",
       "    .dataframe thead th {\n",
       "        text-align: right;\n",
       "    }\n",
       "</style>\n",
       "<table border=\"1\" class=\"dataframe\">\n",
       "  <thead>\n",
       "    <tr style=\"text-align: right;\">\n",
       "      <th></th>\n",
       "      <th>Sales</th>\n",
       "      <th>Profit</th>\n",
       "    </tr>\n",
       "    <tr>\n",
       "      <th>Region</th>\n",
       "      <th></th>\n",
       "      <th></th>\n",
       "    </tr>\n",
       "  </thead>\n",
       "  <tbody>\n",
       "    <tr>\n",
       "      <th>Central</th>\n",
       "      <td>3468156</td>\n",
       "      <td>856806.84</td>\n",
       "    </tr>\n",
       "    <tr>\n",
       "      <th>East</th>\n",
       "      <td>4248368</td>\n",
       "      <td>1074345.58</td>\n",
       "    </tr>\n",
       "    <tr>\n",
       "      <th>North</th>\n",
       "      <td>1254</td>\n",
       "      <td>401.28</td>\n",
       "    </tr>\n",
       "    <tr>\n",
       "      <th>South</th>\n",
       "      <td>2440461</td>\n",
       "      <td>623562.89</td>\n",
       "    </tr>\n",
       "    <tr>\n",
       "      <th>West</th>\n",
       "      <td>4798743</td>\n",
       "      <td>1192004.61</td>\n",
       "    </tr>\n",
       "  </tbody>\n",
       "</table>\n",
       "</div>"
      ],
      "text/plain": [
       "           Sales      Profit\n",
       "Region                      \n",
       "Central  3468156   856806.84\n",
       "East     4248368  1074345.58\n",
       "North       1254      401.28\n",
       "South    2440461   623562.89\n",
       "West     4798743  1192004.61"
      ]
     },
     "execution_count": 25,
     "metadata": {},
     "output_type": "execute_result"
    }
   ],
   "source": [
    "RegionSalesProfit"
   ]
  },
  {
   "cell_type": "markdown",
   "id": "7fc5c476",
   "metadata": {},
   "source": [
    "### Problem statement : Which region has been the most profitbale \n",
    "#### West region has highest sales and profit "
   ]
  },
  {
   "cell_type": "code",
   "execution_count": 26,
   "id": "afd2a9be",
   "metadata": {},
   "outputs": [
    {
     "data": {
      "text/plain": [
       "<AxesSubplot:title={'center':'Sales and Profit By region'}, xlabel='Region', ylabel='Sales and Profit'>"
      ]
     },
     "execution_count": 26,
     "metadata": {},
     "output_type": "execute_result"
    },
    {
     "data": {
      "image/png": "[encoded data removed]",
      "text/plain": [
       "<Figure size 600x600 with 1 Axes>"
      ]
     },
     "metadata": {},
     "output_type": "display_data"
    }
   ],
   "source": [
    "RegionSalesProfit.plot(kind='bar',figsize = (6,6),title= \"Sales and Profit By region\",xlabel = \"Region\",ylabel= \"Sales and Profit\")\n"
   ]
  },
  {
   "cell_type": "markdown",
   "id": "ea9ffb33",
   "metadata": {},
   "source": [
    "### Category wise Sales and Profit by Year"
   ]
  },
  {
   "cell_type": "code",
   "execution_count": 27,
   "id": "64f123bf",
   "metadata": {},
   "outputs": [],
   "source": [
    "CategorySalesProfit = supermarket[['Order Year','Category','Sales','Profit']].groupby(['Order Year','Category']).sum().sort_values('Category',ascending=True)\n"
   ]
  },
  {
   "cell_type": "markdown",
   "id": "e15f037f",
   "metadata": {},
   "source": [
    "#### Among the all categories the highest sales and Profit were recorded by Snacks in the 2018 year"
   ]
  },
  {
   "cell_type": "code",
   "execution_count": 28,
   "id": "570d85f2",
   "metadata": {},
   "outputs": [
    {
     "data": {
      "text/html": [
       "<div>\n",
       "<style scoped>\n",
       "    .dataframe tbody tr th:only-of-type {\n",
       "        vertical-align: middle;\n",
       "    }\n",
       "\n",
       "    .dataframe tbody tr th {\n",
       "        vertical-align: top;\n",
       "    }\n",
       "\n",
       "    .dataframe thead th {\n",
       "        text-align: right;\n",
       "    }\n",
       "</style>\n",
       "<table border=\"1\" class=\"dataframe\">\n",
       "  <thead>\n",
       "    <tr style=\"text-align: right;\">\n",
       "      <th></th>\n",
       "      <th></th>\n",
       "      <th>Sales</th>\n",
       "      <th>Profit</th>\n",
       "    </tr>\n",
       "    <tr>\n",
       "      <th>Order Year</th>\n",
       "      <th>Category</th>\n",
       "      <th></th>\n",
       "      <th></th>\n",
       "    </tr>\n",
       "  </thead>\n",
       "  <tbody>\n",
       "    <tr>\n",
       "      <th>2015</th>\n",
       "      <th>Bakery</th>\n",
       "      <td>433979</td>\n",
       "      <td>107567.44</td>\n",
       "    </tr>\n",
       "    <tr>\n",
       "      <th>2018</th>\n",
       "      <th>Bakery</th>\n",
       "      <td>686074</td>\n",
       "      <td>174338.81</td>\n",
       "    </tr>\n",
       "    <tr>\n",
       "      <th>2017</th>\n",
       "      <th>Bakery</th>\n",
       "      <td>504263</td>\n",
       "      <td>122078.77</td>\n",
       "    </tr>\n",
       "    <tr>\n",
       "      <th>2016</th>\n",
       "      <th>Bakery</th>\n",
       "      <td>487965</td>\n",
       "      <td>124536.04</td>\n",
       "    </tr>\n",
       "    <tr>\n",
       "      <th>2015</th>\n",
       "      <th>Beverages</th>\n",
       "      <td>409091</td>\n",
       "      <td>104834.61</td>\n",
       "    </tr>\n",
       "    <tr>\n",
       "      <th>2017</th>\n",
       "      <th>Beverages</th>\n",
       "      <td>543575</td>\n",
       "      <td>135179.89</td>\n",
       "    </tr>\n",
       "    <tr>\n",
       "      <th>2018</th>\n",
       "      <th>Beverages</th>\n",
       "      <td>706928</td>\n",
       "      <td>175390.12</td>\n",
       "    </tr>\n",
       "    <tr>\n",
       "      <th>2016</th>\n",
       "      <th>Beverages</th>\n",
       "      <td>425719</td>\n",
       "      <td>110201.14</td>\n",
       "    </tr>\n",
       "    <tr>\n",
       "      <th>2017</th>\n",
       "      <th>Eggs, Meat &amp; Fish</th>\n",
       "      <td>565101</td>\n",
       "      <td>135896.22</td>\n",
       "    </tr>\n",
       "    <tr>\n",
       "      <th>2018</th>\n",
       "      <th>Eggs, Meat &amp; Fish</th>\n",
       "      <td>757263</td>\n",
       "      <td>191194.84</td>\n",
       "    </tr>\n",
       "    <tr>\n",
       "      <th>2015</th>\n",
       "      <th>Eggs, Meat &amp; Fish</th>\n",
       "      <td>482982</td>\n",
       "      <td>126057.88</td>\n",
       "    </tr>\n",
       "    <tr>\n",
       "      <th rowspan=\"2\" valign=\"top\">2016</th>\n",
       "      <th>Eggs, Meat &amp; Fish</th>\n",
       "      <td>462055</td>\n",
       "      <td>114208.28</td>\n",
       "    </tr>\n",
       "    <tr>\n",
       "      <th>Food Grains</th>\n",
       "      <td>438736</td>\n",
       "      <td>113643.27</td>\n",
       "    </tr>\n",
       "    <tr>\n",
       "      <th>2015</th>\n",
       "      <th>Food Grains</th>\n",
       "      <td>356704</td>\n",
       "      <td>90837.84</td>\n",
       "    </tr>\n",
       "    <tr>\n",
       "      <th>2017</th>\n",
       "      <th>Food Grains</th>\n",
       "      <td>609338</td>\n",
       "      <td>149775.58</td>\n",
       "    </tr>\n",
       "    <tr>\n",
       "      <th rowspan=\"2\" valign=\"top\">2018</th>\n",
       "      <th>Food Grains</th>\n",
       "      <td>710494</td>\n",
       "      <td>174905.95</td>\n",
       "    </tr>\n",
       "    <tr>\n",
       "      <th>Fruits &amp; Veggies</th>\n",
       "      <td>706674</td>\n",
       "      <td>180283.34</td>\n",
       "    </tr>\n",
       "    <tr>\n",
       "      <th>2015</th>\n",
       "      <th>Fruits &amp; Veggies</th>\n",
       "      <td>409212</td>\n",
       "      <td>100586.06</td>\n",
       "    </tr>\n",
       "    <tr>\n",
       "      <th>2017</th>\n",
       "      <th>Fruits &amp; Veggies</th>\n",
       "      <td>516400</td>\n",
       "      <td>130630.77</td>\n",
       "    </tr>\n",
       "    <tr>\n",
       "      <th rowspan=\"2\" valign=\"top\">2016</th>\n",
       "      <th>Fruits &amp; Veggies</th>\n",
       "      <td>468441</td>\n",
       "      <td>118900.21</td>\n",
       "    </tr>\n",
       "    <tr>\n",
       "      <th>Oil &amp; Masala</th>\n",
       "      <td>412725</td>\n",
       "      <td>102656.22</td>\n",
       "    </tr>\n",
       "    <tr>\n",
       "      <th>2018</th>\n",
       "      <th>Oil &amp; Masala</th>\n",
       "      <td>637603</td>\n",
       "      <td>152043.32</td>\n",
       "    </tr>\n",
       "    <tr>\n",
       "      <th>2015</th>\n",
       "      <th>Oil &amp; Masala</th>\n",
       "      <td>423918</td>\n",
       "      <td>105637.64</td>\n",
       "    </tr>\n",
       "    <tr>\n",
       "      <th>2017</th>\n",
       "      <th>Oil &amp; Masala</th>\n",
       "      <td>564196</td>\n",
       "      <td>137558.11</td>\n",
       "    </tr>\n",
       "    <tr>\n",
       "      <th>2016</th>\n",
       "      <th>Snacks</th>\n",
       "      <td>436318</td>\n",
       "      <td>113047.83</td>\n",
       "    </tr>\n",
       "    <tr>\n",
       "      <th>2015</th>\n",
       "      <th>Snacks</th>\n",
       "      <td>459713</td>\n",
       "      <td>117007.64</td>\n",
       "    </tr>\n",
       "    <tr>\n",
       "      <th>2017</th>\n",
       "      <th>Snacks</th>\n",
       "      <td>569039</td>\n",
       "      <td>142096.88</td>\n",
       "    </tr>\n",
       "    <tr>\n",
       "      <th>2018</th>\n",
       "      <th>Snacks</th>\n",
       "      <td>772476</td>\n",
       "      <td>196026.50</td>\n",
       "    </tr>\n",
       "  </tbody>\n",
       "</table>\n",
       "</div>"
      ],
      "text/plain": [
       "                               Sales     Profit\n",
       "Order Year Category                            \n",
       "2015       Bakery             433979  107567.44\n",
       "2018       Bakery             686074  174338.81\n",
       "2017       Bakery             504263  122078.77\n",
       "2016       Bakery             487965  124536.04\n",
       "2015       Beverages          409091  104834.61\n",
       "2017       Beverages          543575  135179.89\n",
       "2018       Beverages          706928  175390.12\n",
       "2016       Beverages          425719  110201.14\n",
       "2017       Eggs, Meat & Fish  565101  135896.22\n",
       "2018       Eggs, Meat & Fish  757263  191194.84\n",
       "2015       Eggs, Meat & Fish  482982  126057.88\n",
       "2016       Eggs, Meat & Fish  462055  114208.28\n",
       "           Food Grains        438736  113643.27\n",
       "2015       Food Grains        356704   90837.84\n",
       "2017       Food Grains        609338  149775.58\n",
       "2018       Food Grains        710494  174905.95\n",
       "           Fruits & Veggies   706674  180283.34\n",
       "2015       Fruits & Veggies   409212  100586.06\n",
       "2017       Fruits & Veggies   516400  130630.77\n",
       "2016       Fruits & Veggies   468441  118900.21\n",
       "           Oil & Masala       412725  102656.22\n",
       "2018       Oil & Masala       637603  152043.32\n",
       "2015       Oil & Masala       423918  105637.64\n",
       "2017       Oil & Masala       564196  137558.11\n",
       "2016       Snacks             436318  113047.83\n",
       "2015       Snacks             459713  117007.64\n",
       "2017       Snacks             569039  142096.88\n",
       "2018       Snacks             772476  196026.50"
      ]
     },
     "execution_count": 28,
     "metadata": {},
     "output_type": "execute_result"
    }
   ],
   "source": [
    "CategorySalesProfit"
   ]
  },
  {
   "cell_type": "code",
   "execution_count": 29,
   "id": "9178ed84",
   "metadata": {},
   "outputs": [
    {
     "data": {
      "text/plain": [
       "<AxesSubplot:title={'center':'Sales and Profit By categories'}, xlabel='Category', ylabel='Sales and Profit'>"
      ]
     },
     "execution_count": 29,
     "metadata": {},
     "output_type": "execute_result"
    },
    {
     "data": {
      "image/png": "[encoded data removed]",
      "text/plain": [
       "<Figure size 1000x1000 with 1 Axes>"
      ]
     },
     "metadata": {},
     "output_type": "display_data"
    }
   ],
   "source": [
    "CategorySalesProfit.plot(kind='bar',figsize = (10,10),title= \"Sales and Profit By categories\",xlabel = \"Category\",ylabel= \"Sales and Profit\")"
   ]
  },
  {
   "cell_type": "code",
   "execution_count": 41,
   "id": "c39c8be9",
   "metadata": {},
   "outputs": [],
   "source": [
    "Category1 = supermarket[['Category','Sales']].groupby(['Category']).sum().sort_values('Category',ascending=True)\n"
   ]
  },
  {
   "cell_type": "code",
   "execution_count": 42,
   "id": "608197bb",
   "metadata": {},
   "outputs": [
    {
     "data": {
      "text/html": [
       "<div>\n",
       "<style scoped>\n",
       "    .dataframe tbody tr th:only-of-type {\n",
       "        vertical-align: middle;\n",
       "    }\n",
       "\n",
       "    .dataframe tbody tr th {\n",
       "        vertical-align: top;\n",
       "    }\n",
       "\n",
       "    .dataframe thead th {\n",
       "        text-align: right;\n",
       "    }\n",
       "</style>\n",
       "<table border=\"1\" class=\"dataframe\">\n",
       "  <thead>\n",
       "    <tr style=\"text-align: right;\">\n",
       "      <th></th>\n",
       "      <th>Sales</th>\n",
       "    </tr>\n",
       "    <tr>\n",
       "      <th>Category</th>\n",
       "      <th></th>\n",
       "    </tr>\n",
       "  </thead>\n",
       "  <tbody>\n",
       "    <tr>\n",
       "      <th>Bakery</th>\n",
       "      <td>2112281</td>\n",
       "    </tr>\n",
       "    <tr>\n",
       "      <th>Beverages</th>\n",
       "      <td>2085313</td>\n",
       "    </tr>\n",
       "    <tr>\n",
       "      <th>Eggs, Meat &amp; Fish</th>\n",
       "      <td>2267401</td>\n",
       "    </tr>\n",
       "    <tr>\n",
       "      <th>Food Grains</th>\n",
       "      <td>2115272</td>\n",
       "    </tr>\n",
       "    <tr>\n",
       "      <th>Fruits &amp; Veggies</th>\n",
       "      <td>2100727</td>\n",
       "    </tr>\n",
       "    <tr>\n",
       "      <th>Oil &amp; Masala</th>\n",
       "      <td>2038442</td>\n",
       "    </tr>\n",
       "    <tr>\n",
       "      <th>Snacks</th>\n",
       "      <td>2237546</td>\n",
       "    </tr>\n",
       "  </tbody>\n",
       "</table>\n",
       "</div>"
      ],
      "text/plain": [
       "                     Sales\n",
       "Category                  \n",
       "Bakery             2112281\n",
       "Beverages          2085313\n",
       "Eggs, Meat & Fish  2267401\n",
       "Food Grains        2115272\n",
       "Fruits & Veggies   2100727\n",
       "Oil & Masala       2038442\n",
       "Snacks             2237546"
      ]
     },
     "execution_count": 42,
     "metadata": {},
     "output_type": "execute_result"
    }
   ],
   "source": [
    "Category1"
   ]
  },
  {
   "cell_type": "code",
   "execution_count": 46,
   "id": "b63d3d8e",
   "metadata": {},
   "outputs": [
    {
     "data": {
      "text/plain": [
       "array([<AxesSubplot:ylabel='Sales'>], dtype=object)"
      ]
     },
     "execution_count": 46,
     "metadata": {},
     "output_type": "execute_result"
    },
    {
     "data": {
      "image/png": "[encoded data removed]",
      "text/plain": [
       "<Figure size 1000x1000 with 1 Axes>"
      ]
     },
     "metadata": {},
     "output_type": "display_data"
    }
   ],
   "source": [
    "Category1.plot(kind='pie',figsize = (10,10),title= \"Category Sales\",subplots = True , startangle = 90,shadow = True, autopct = \"%1.1f%%\") "
   ]
  },
  {
   "cell_type": "markdown",
   "id": "3d7a8e89",
   "metadata": {},
   "source": [
    "### Catergory Count YoY"
   ]
  },
  {
   "cell_type": "code",
   "execution_count": 30,
   "id": "dcae43eb",
   "metadata": {},
   "outputs": [],
   "source": [
    "CategoryCount = supermarket[['Order Year','Category', 'Order ID']].groupby([ 'Category','Order Year']).count()[['Order ID']].sort_values('Category',ascending=True)\n"
   ]
  },
  {
   "cell_type": "markdown",
   "id": "14b5fbff",
   "metadata": {},
   "source": [
    "### Problem Statment : Highest Transactions in categories YoY\n",
    "#### 2015 : Eggs, Meat & Fish\n",
    "#### 2016 : Bakery\n",
    "#### 2017 : Food Grains\n",
    "#### 2018 : Snacks"
   ]
  },
  {
   "cell_type": "code",
   "execution_count": 31,
   "id": "16cbe07a",
   "metadata": {},
   "outputs": [
    {
     "data": {
      "text/html": [
       "<div>\n",
       "<style scoped>\n",
       "    .dataframe tbody tr th:only-of-type {\n",
       "        vertical-align: middle;\n",
       "    }\n",
       "\n",
       "    .dataframe tbody tr th {\n",
       "        vertical-align: top;\n",
       "    }\n",
       "\n",
       "    .dataframe thead th {\n",
       "        text-align: right;\n",
       "    }\n",
       "</style>\n",
       "<table border=\"1\" class=\"dataframe\">\n",
       "  <thead>\n",
       "    <tr style=\"text-align: right;\">\n",
       "      <th></th>\n",
       "      <th></th>\n",
       "      <th>Order ID</th>\n",
       "    </tr>\n",
       "    <tr>\n",
       "      <th>Category</th>\n",
       "      <th>Order Year</th>\n",
       "      <th></th>\n",
       "    </tr>\n",
       "  </thead>\n",
       "  <tbody>\n",
       "    <tr>\n",
       "      <th rowspan=\"4\" valign=\"top\">Bakery</th>\n",
       "      <th>2015</th>\n",
       "      <td>293</td>\n",
       "    </tr>\n",
       "    <tr>\n",
       "      <th>2016</th>\n",
       "      <td>316</td>\n",
       "    </tr>\n",
       "    <tr>\n",
       "      <th>2017</th>\n",
       "      <td>341</td>\n",
       "    </tr>\n",
       "    <tr>\n",
       "      <th>2018</th>\n",
       "      <td>463</td>\n",
       "    </tr>\n",
       "    <tr>\n",
       "      <th rowspan=\"4\" valign=\"top\">Beverages</th>\n",
       "      <th>2015</th>\n",
       "      <td>274</td>\n",
       "    </tr>\n",
       "    <tr>\n",
       "      <th>2016</th>\n",
       "      <td>295</td>\n",
       "    </tr>\n",
       "    <tr>\n",
       "      <th>2017</th>\n",
       "      <td>369</td>\n",
       "    </tr>\n",
       "    <tr>\n",
       "      <th>2018</th>\n",
       "      <td>462</td>\n",
       "    </tr>\n",
       "    <tr>\n",
       "      <th rowspan=\"4\" valign=\"top\">Eggs, Meat &amp; Fish</th>\n",
       "      <th>2015</th>\n",
       "      <td>314</td>\n",
       "    </tr>\n",
       "    <tr>\n",
       "      <th>2016</th>\n",
       "      <td>306</td>\n",
       "    </tr>\n",
       "    <tr>\n",
       "      <th>2017</th>\n",
       "      <td>372</td>\n",
       "    </tr>\n",
       "    <tr>\n",
       "      <th>2018</th>\n",
       "      <td>498</td>\n",
       "    </tr>\n",
       "    <tr>\n",
       "      <th rowspan=\"4\" valign=\"top\">Food Grains</th>\n",
       "      <th>2018</th>\n",
       "      <td>470</td>\n",
       "    </tr>\n",
       "    <tr>\n",
       "      <th>2017</th>\n",
       "      <td>395</td>\n",
       "    </tr>\n",
       "    <tr>\n",
       "      <th>2016</th>\n",
       "      <td>285</td>\n",
       "    </tr>\n",
       "    <tr>\n",
       "      <th>2015</th>\n",
       "      <td>248</td>\n",
       "    </tr>\n",
       "    <tr>\n",
       "      <th rowspan=\"4\" valign=\"top\">Fruits &amp; Veggies</th>\n",
       "      <th>2015</th>\n",
       "      <td>277</td>\n",
       "    </tr>\n",
       "    <tr>\n",
       "      <th>2016</th>\n",
       "      <td>313</td>\n",
       "    </tr>\n",
       "    <tr>\n",
       "      <th>2017</th>\n",
       "      <td>355</td>\n",
       "    </tr>\n",
       "    <tr>\n",
       "      <th>2018</th>\n",
       "      <td>473</td>\n",
       "    </tr>\n",
       "    <tr>\n",
       "      <th rowspan=\"4\" valign=\"top\">Oil &amp; Masala</th>\n",
       "      <th>2015</th>\n",
       "      <td>280</td>\n",
       "    </tr>\n",
       "    <tr>\n",
       "      <th>2016</th>\n",
       "      <td>282</td>\n",
       "    </tr>\n",
       "    <tr>\n",
       "      <th>2017</th>\n",
       "      <td>362</td>\n",
       "    </tr>\n",
       "    <tr>\n",
       "      <th>2018</th>\n",
       "      <td>437</td>\n",
       "    </tr>\n",
       "    <tr>\n",
       "      <th rowspan=\"4\" valign=\"top\">Snacks</th>\n",
       "      <th>2015</th>\n",
       "      <td>307</td>\n",
       "    </tr>\n",
       "    <tr>\n",
       "      <th>2016</th>\n",
       "      <td>305</td>\n",
       "    </tr>\n",
       "    <tr>\n",
       "      <th>2017</th>\n",
       "      <td>393</td>\n",
       "    </tr>\n",
       "    <tr>\n",
       "      <th>2018</th>\n",
       "      <td>509</td>\n",
       "    </tr>\n",
       "  </tbody>\n",
       "</table>\n",
       "</div>"
      ],
      "text/plain": [
       "                              Order ID\n",
       "Category          Order Year          \n",
       "Bakery            2015             293\n",
       "                  2016             316\n",
       "                  2017             341\n",
       "                  2018             463\n",
       "Beverages         2015             274\n",
       "                  2016             295\n",
       "                  2017             369\n",
       "                  2018             462\n",
       "Eggs, Meat & Fish 2015             314\n",
       "                  2016             306\n",
       "                  2017             372\n",
       "                  2018             498\n",
       "Food Grains       2018             470\n",
       "                  2017             395\n",
       "                  2016             285\n",
       "                  2015             248\n",
       "Fruits & Veggies  2015             277\n",
       "                  2016             313\n",
       "                  2017             355\n",
       "                  2018             473\n",
       "Oil & Masala      2015             280\n",
       "                  2016             282\n",
       "                  2017             362\n",
       "                  2018             437\n",
       "Snacks            2015             307\n",
       "                  2016             305\n",
       "                  2017             393\n",
       "                  2018             509"
      ]
     },
     "execution_count": 31,
     "metadata": {},
     "output_type": "execute_result"
    }
   ],
   "source": [
    "CategoryCount"
   ]
  },
  {
   "cell_type": "code",
   "execution_count": 32,
   "id": "ad39e3f4",
   "metadata": {},
   "outputs": [
    {
     "data": {
      "text/plain": [
       "<AxesSubplot:title={'center':'Count f Categories'}, xlabel='Category', ylabel='Count'>"
      ]
     },
     "execution_count": 32,
     "metadata": {},
     "output_type": "execute_result"
    },
    {
     "data": {
      "image/png": "[encoded data removed]",
      "text/plain": [
       "<Figure size 1100x1100 with 1 Axes>"
      ]
     },
     "metadata": {},
     "output_type": "display_data"
    }
   ],
   "source": [
    "CategoryCount.plot(kind='bar',figsize = (11,11),title= \"Count f Categories\",xlabel = \"Category\",ylabel= \"Count\")"
   ]
  },
  {
   "cell_type": "markdown",
   "id": "f391c20c",
   "metadata": {},
   "source": [
    "# Conclusion : A Detailed analysis showed that the sales and profit of the supermart in all the region has been increasing YoY Which happened due to increasing discount\n",
    "# Thank You"
   ]
  }
 ],
 "metadata": {
  "kernelspec": {
   "display_name": "Python 3 (ipykernel)",
   "language": "python",
   "name": "python3"
  },
  "language_info": {
   "codemirror_mode": {
    "name": "ipython",
    "version": 3
   },
   "file_extension": ".py",
   "mimetype": "text/x-python",
   "name": "python",
   "nbconvert_exporter": "python",
   "pygments_lexer": "ipython3",
   "version": "3.9.13"
  }
 },
 "nbformat": 4,
 "nbformat_minor": 5
}
