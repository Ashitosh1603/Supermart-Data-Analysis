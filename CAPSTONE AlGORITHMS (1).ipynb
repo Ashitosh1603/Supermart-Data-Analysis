{
 "cells": [
  {
   "cell_type": "markdown",
   "id": "a670253c",
   "metadata": {},
   "source": [
    "# Importing libraries and dataset for algorithms\n"
   ]
  },
  {
   "cell_type": "code",
   "execution_count": 1,
   "id": "2e9b4f5f",
   "metadata": {},
   "outputs": [],
   "source": [
    "import pandas as pd\n",
    "import numpy as np\n",
    "import seaborn as sns\n",
    "import matplotlib.pyplot as plt\n",
    "\n",
    "from sklearn.model_selection import train_test_split\n",
    "from sklearn.preprocessing import StandardScaler\n",
    "from sklearn.linear_model import LogisticRegression\n",
    "from sklearn.metrics import accuracy_score, classification_report, confusion_matrix"
   ]
  },
  {
   "cell_type": "markdown",
   "id": "9beea640",
   "metadata": {},
   "source": [
    "### Importing dataset and reading the dataset"
   ]
  },
  {
   "cell_type": "code",
   "execution_count": 2,
   "id": "88077ee5",
   "metadata": {},
   "outputs": [],
   "source": [
    "dataset = pd.read_csv(\"Supermart Grocery Sales - Retail Analytics Dataset.csv\")\n",
    "supermarket = dataset.copy()"
   ]
  },
  {
   "cell_type": "markdown",
   "id": "66535bd7",
   "metadata": {},
   "source": [
    "#### Reading the firsdt five rows of the dataset"
   ]
  },
  {
   "cell_type": "code",
   "execution_count": 3,
   "id": "1bc442d9",
   "metadata": {
    "scrolled": true
   },
   "outputs": [
    {
     "data": {
      "text/html": [
       "<div>\n",
       "<style scoped>\n",
       "    .dataframe tbody tr th:only-of-type {\n",
       "        vertical-align: middle;\n",
       "    }\n",
       "\n",
       "    .dataframe tbody tr th {\n",
       "        vertical-align: top;\n",
       "    }\n",
       "\n",
       "    .dataframe thead th {\n",
       "        text-align: right;\n",
       "    }\n",
       "</style>\n",
       "<table border=\"1\" class=\"dataframe\">\n",
       "  <thead>\n",
       "    <tr style=\"text-align: right;\">\n",
       "      <th></th>\n",
       "      <th>Order ID</th>\n",
       "      <th>Customer Name</th>\n",
       "      <th>Category</th>\n",
       "      <th>Sub Category</th>\n",
       "      <th>City</th>\n",
       "      <th>Order Date</th>\n",
       "      <th>Quarters</th>\n",
       "      <th>Order Year</th>\n",
       "      <th>Region</th>\n",
       "      <th>Sales</th>\n",
       "      <th>Discount</th>\n",
       "      <th>Profit</th>\n",
       "      <th>State</th>\n",
       "    </tr>\n",
       "  </thead>\n",
       "  <tbody>\n",
       "    <tr>\n",
       "      <th>0</th>\n",
       "      <td>OD1</td>\n",
       "      <td>Harish</td>\n",
       "      <td>Oil &amp; Masala</td>\n",
       "      <td>Masalas</td>\n",
       "      <td>Vellore</td>\n",
       "      <td>11/8/2017</td>\n",
       "      <td>4</td>\n",
       "      <td>2017</td>\n",
       "      <td>North</td>\n",
       "      <td>1254</td>\n",
       "      <td>0.12</td>\n",
       "      <td>401.28</td>\n",
       "      <td>Tamil Nadu</td>\n",
       "    </tr>\n",
       "    <tr>\n",
       "      <th>1</th>\n",
       "      <td>OD2</td>\n",
       "      <td>Sudha</td>\n",
       "      <td>Beverages</td>\n",
       "      <td>Health Drinks</td>\n",
       "      <td>Krishnagiri</td>\n",
       "      <td>11/8/2017</td>\n",
       "      <td>4</td>\n",
       "      <td>2017</td>\n",
       "      <td>South</td>\n",
       "      <td>749</td>\n",
       "      <td>0.18</td>\n",
       "      <td>149.80</td>\n",
       "      <td>Tamil Nadu</td>\n",
       "    </tr>\n",
       "    <tr>\n",
       "      <th>2</th>\n",
       "      <td>OD3</td>\n",
       "      <td>Hussain</td>\n",
       "      <td>Food Grains</td>\n",
       "      <td>Atta &amp; Flour</td>\n",
       "      <td>Perambalur</td>\n",
       "      <td>6/12/2017</td>\n",
       "      <td>2</td>\n",
       "      <td>2017</td>\n",
       "      <td>West</td>\n",
       "      <td>2360</td>\n",
       "      <td>0.21</td>\n",
       "      <td>165.20</td>\n",
       "      <td>Tamil Nadu</td>\n",
       "    </tr>\n",
       "    <tr>\n",
       "      <th>3</th>\n",
       "      <td>OD4</td>\n",
       "      <td>Jackson</td>\n",
       "      <td>Fruits &amp; Veggies</td>\n",
       "      <td>Fresh Vegetables</td>\n",
       "      <td>Dharmapuri</td>\n",
       "      <td>10/11/2016</td>\n",
       "      <td>4</td>\n",
       "      <td>2016</td>\n",
       "      <td>South</td>\n",
       "      <td>896</td>\n",
       "      <td>0.25</td>\n",
       "      <td>89.60</td>\n",
       "      <td>Tamil Nadu</td>\n",
       "    </tr>\n",
       "    <tr>\n",
       "      <th>4</th>\n",
       "      <td>OD5</td>\n",
       "      <td>Ridhesh</td>\n",
       "      <td>Food Grains</td>\n",
       "      <td>Organic Staples</td>\n",
       "      <td>Ooty</td>\n",
       "      <td>10/11/2016</td>\n",
       "      <td>4</td>\n",
       "      <td>2016</td>\n",
       "      <td>South</td>\n",
       "      <td>2355</td>\n",
       "      <td>0.26</td>\n",
       "      <td>918.45</td>\n",
       "      <td>Tamil Nadu</td>\n",
       "    </tr>\n",
       "  </tbody>\n",
       "</table>\n",
       "</div>"
      ],
      "text/plain": [
       "  Order ID Customer Name          Category      Sub Category         City  \\\n",
       "0      OD1        Harish      Oil & Masala           Masalas      Vellore   \n",
       "1      OD2         Sudha         Beverages     Health Drinks  Krishnagiri   \n",
       "2      OD3       Hussain       Food Grains      Atta & Flour   Perambalur   \n",
       "3      OD4       Jackson  Fruits & Veggies  Fresh Vegetables   Dharmapuri   \n",
       "4      OD5       Ridhesh       Food Grains   Organic Staples         Ooty   \n",
       "\n",
       "   Order Date  Quarters  Order Year Region  Sales  Discount  Profit  \\\n",
       "0   11/8/2017         4        2017  North   1254      0.12  401.28   \n",
       "1   11/8/2017         4        2017  South    749      0.18  149.80   \n",
       "2   6/12/2017         2        2017   West   2360      0.21  165.20   \n",
       "3  10/11/2016         4        2016  South    896      0.25   89.60   \n",
       "4  10/11/2016         4        2016  South   2355      0.26  918.45   \n",
       "\n",
       "        State  \n",
       "0  Tamil Nadu  \n",
       "1  Tamil Nadu  \n",
       "2  Tamil Nadu  \n",
       "3  Tamil Nadu  \n",
       "4  Tamil Nadu  "
      ]
     },
     "execution_count": 3,
     "metadata": {},
     "output_type": "execute_result"
    }
   ],
   "source": [
    "supermarket.head()"
   ]
  },
  {
   "cell_type": "markdown",
   "id": "1fdcc6a4",
   "metadata": {},
   "source": [
    "## Applying label encoding to read the categorical data while changing it into numbers"
   ]
  },
  {
   "cell_type": "code",
   "execution_count": 4,
   "id": "e1a6ea66",
   "metadata": {},
   "outputs": [],
   "source": [
    "from sklearn import preprocessing\n",
    "le = preprocessing.LabelEncoder()"
   ]
  },
  {
   "cell_type": "code",
   "execution_count": 5,
   "id": "64a76486",
   "metadata": {},
   "outputs": [],
   "source": [
    "supermarket['Category'] = le.fit_transform(supermarket['Category'])\n",
    "supermarket['Sub Category'] = le.fit_transform(supermarket['Sub Category'])\n",
    "supermarket['Region'] = le.fit_transform(supermarket['Region'])\n",
    "supermarket['Order Year'] = le.fit_transform(supermarket['Order Year'])"
   ]
  },
  {
   "cell_type": "code",
   "execution_count": 6,
   "id": "7d6f7fba",
   "metadata": {},
   "outputs": [
    {
     "data": {
      "text/html": [
       "<div>\n",
       "<style scoped>\n",
       "    .dataframe tbody tr th:only-of-type {\n",
       "        vertical-align: middle;\n",
       "    }\n",
       "\n",
       "    .dataframe tbody tr th {\n",
       "        vertical-align: top;\n",
       "    }\n",
       "\n",
       "    .dataframe thead th {\n",
       "        text-align: right;\n",
       "    }\n",
       "</style>\n",
       "<table border=\"1\" class=\"dataframe\">\n",
       "  <thead>\n",
       "    <tr style=\"text-align: right;\">\n",
       "      <th></th>\n",
       "      <th>Order ID</th>\n",
       "      <th>Customer Name</th>\n",
       "      <th>Category</th>\n",
       "      <th>Sub Category</th>\n",
       "      <th>City</th>\n",
       "      <th>Order Date</th>\n",
       "      <th>Quarters</th>\n",
       "      <th>Order Year</th>\n",
       "      <th>Region</th>\n",
       "      <th>Sales</th>\n",
       "      <th>Discount</th>\n",
       "      <th>Profit</th>\n",
       "      <th>State</th>\n",
       "    </tr>\n",
       "  </thead>\n",
       "  <tbody>\n",
       "    <tr>\n",
       "      <th>0</th>\n",
       "      <td>OD1</td>\n",
       "      <td>Harish</td>\n",
       "      <td>5</td>\n",
       "      <td>14</td>\n",
       "      <td>Vellore</td>\n",
       "      <td>11/8/2017</td>\n",
       "      <td>4</td>\n",
       "      <td>2</td>\n",
       "      <td>2</td>\n",
       "      <td>1254</td>\n",
       "      <td>0.12</td>\n",
       "      <td>401.28</td>\n",
       "      <td>Tamil Nadu</td>\n",
       "    </tr>\n",
       "    <tr>\n",
       "      <th>1</th>\n",
       "      <td>OD2</td>\n",
       "      <td>Sudha</td>\n",
       "      <td>1</td>\n",
       "      <td>13</td>\n",
       "      <td>Krishnagiri</td>\n",
       "      <td>11/8/2017</td>\n",
       "      <td>4</td>\n",
       "      <td>2</td>\n",
       "      <td>3</td>\n",
       "      <td>749</td>\n",
       "      <td>0.18</td>\n",
       "      <td>149.80</td>\n",
       "      <td>Tamil Nadu</td>\n",
       "    </tr>\n",
       "    <tr>\n",
       "      <th>2</th>\n",
       "      <td>OD3</td>\n",
       "      <td>Hussain</td>\n",
       "      <td>3</td>\n",
       "      <td>0</td>\n",
       "      <td>Perambalur</td>\n",
       "      <td>6/12/2017</td>\n",
       "      <td>2</td>\n",
       "      <td>2</td>\n",
       "      <td>4</td>\n",
       "      <td>2360</td>\n",
       "      <td>0.21</td>\n",
       "      <td>165.20</td>\n",
       "      <td>Tamil Nadu</td>\n",
       "    </tr>\n",
       "    <tr>\n",
       "      <th>3</th>\n",
       "      <td>OD4</td>\n",
       "      <td>Jackson</td>\n",
       "      <td>4</td>\n",
       "      <td>12</td>\n",
       "      <td>Dharmapuri</td>\n",
       "      <td>10/11/2016</td>\n",
       "      <td>4</td>\n",
       "      <td>1</td>\n",
       "      <td>3</td>\n",
       "      <td>896</td>\n",
       "      <td>0.25</td>\n",
       "      <td>89.60</td>\n",
       "      <td>Tamil Nadu</td>\n",
       "    </tr>\n",
       "    <tr>\n",
       "      <th>4</th>\n",
       "      <td>OD5</td>\n",
       "      <td>Ridhesh</td>\n",
       "      <td>3</td>\n",
       "      <td>18</td>\n",
       "      <td>Ooty</td>\n",
       "      <td>10/11/2016</td>\n",
       "      <td>4</td>\n",
       "      <td>1</td>\n",
       "      <td>3</td>\n",
       "      <td>2355</td>\n",
       "      <td>0.26</td>\n",
       "      <td>918.45</td>\n",
       "      <td>Tamil Nadu</td>\n",
       "    </tr>\n",
       "    <tr>\n",
       "      <th>...</th>\n",
       "      <td>...</td>\n",
       "      <td>...</td>\n",
       "      <td>...</td>\n",
       "      <td>...</td>\n",
       "      <td>...</td>\n",
       "      <td>...</td>\n",
       "      <td>...</td>\n",
       "      <td>...</td>\n",
       "      <td>...</td>\n",
       "      <td>...</td>\n",
       "      <td>...</td>\n",
       "      <td>...</td>\n",
       "      <td>...</td>\n",
       "    </tr>\n",
       "    <tr>\n",
       "      <th>9989</th>\n",
       "      <td>OD9990</td>\n",
       "      <td>Sudeep</td>\n",
       "      <td>2</td>\n",
       "      <td>9</td>\n",
       "      <td>Madurai</td>\n",
       "      <td>12/24/2015</td>\n",
       "      <td>4</td>\n",
       "      <td>0</td>\n",
       "      <td>4</td>\n",
       "      <td>945</td>\n",
       "      <td>0.16</td>\n",
       "      <td>359.10</td>\n",
       "      <td>Tamil Nadu</td>\n",
       "    </tr>\n",
       "    <tr>\n",
       "      <th>9990</th>\n",
       "      <td>OD9991</td>\n",
       "      <td>Alan</td>\n",
       "      <td>0</td>\n",
       "      <td>1</td>\n",
       "      <td>Kanyakumari</td>\n",
       "      <td>7/12/2015</td>\n",
       "      <td>3</td>\n",
       "      <td>0</td>\n",
       "      <td>4</td>\n",
       "      <td>1195</td>\n",
       "      <td>0.26</td>\n",
       "      <td>71.70</td>\n",
       "      <td>Tamil Nadu</td>\n",
       "    </tr>\n",
       "    <tr>\n",
       "      <th>9991</th>\n",
       "      <td>OD9992</td>\n",
       "      <td>Ravi</td>\n",
       "      <td>3</td>\n",
       "      <td>20</td>\n",
       "      <td>Bodi</td>\n",
       "      <td>6/6/2017</td>\n",
       "      <td>2</td>\n",
       "      <td>2</td>\n",
       "      <td>4</td>\n",
       "      <td>1567</td>\n",
       "      <td>0.16</td>\n",
       "      <td>501.44</td>\n",
       "      <td>Tamil Nadu</td>\n",
       "    </tr>\n",
       "    <tr>\n",
       "      <th>9992</th>\n",
       "      <td>OD9993</td>\n",
       "      <td>Peer</td>\n",
       "      <td>5</td>\n",
       "      <td>22</td>\n",
       "      <td>Pudukottai</td>\n",
       "      <td>10/16/2018</td>\n",
       "      <td>4</td>\n",
       "      <td>3</td>\n",
       "      <td>4</td>\n",
       "      <td>1659</td>\n",
       "      <td>0.15</td>\n",
       "      <td>597.24</td>\n",
       "      <td>Tamil Nadu</td>\n",
       "    </tr>\n",
       "    <tr>\n",
       "      <th>9993</th>\n",
       "      <td>OD9994</td>\n",
       "      <td>Ganesh</td>\n",
       "      <td>3</td>\n",
       "      <td>0</td>\n",
       "      <td>Tirunelveli</td>\n",
       "      <td>4/17/2018</td>\n",
       "      <td>2</td>\n",
       "      <td>3</td>\n",
       "      <td>4</td>\n",
       "      <td>1034</td>\n",
       "      <td>0.28</td>\n",
       "      <td>165.44</td>\n",
       "      <td>Tamil Nadu</td>\n",
       "    </tr>\n",
       "  </tbody>\n",
       "</table>\n",
       "<p>9994 rows × 13 columns</p>\n",
       "</div>"
      ],
      "text/plain": [
       "     Order ID Customer Name  Category  Sub Category         City  Order Date  \\\n",
       "0         OD1        Harish         5            14      Vellore   11/8/2017   \n",
       "1         OD2         Sudha         1            13  Krishnagiri   11/8/2017   \n",
       "2         OD3       Hussain         3             0   Perambalur   6/12/2017   \n",
       "3         OD4       Jackson         4            12   Dharmapuri  10/11/2016   \n",
       "4         OD5       Ridhesh         3            18         Ooty  10/11/2016   \n",
       "...       ...           ...       ...           ...          ...         ...   \n",
       "9989   OD9990        Sudeep         2             9      Madurai  12/24/2015   \n",
       "9990   OD9991          Alan         0             1  Kanyakumari   7/12/2015   \n",
       "9991   OD9992          Ravi         3            20         Bodi    6/6/2017   \n",
       "9992   OD9993          Peer         5            22   Pudukottai  10/16/2018   \n",
       "9993   OD9994        Ganesh         3             0  Tirunelveli   4/17/2018   \n",
       "\n",
       "      Quarters  Order Year  Region  Sales  Discount  Profit       State  \n",
       "0            4           2       2   1254      0.12  401.28  Tamil Nadu  \n",
       "1            4           2       3    749      0.18  149.80  Tamil Nadu  \n",
       "2            2           2       4   2360      0.21  165.20  Tamil Nadu  \n",
       "3            4           1       3    896      0.25   89.60  Tamil Nadu  \n",
       "4            4           1       3   2355      0.26  918.45  Tamil Nadu  \n",
       "...        ...         ...     ...    ...       ...     ...         ...  \n",
       "9989         4           0       4    945      0.16  359.10  Tamil Nadu  \n",
       "9990         3           0       4   1195      0.26   71.70  Tamil Nadu  \n",
       "9991         2           2       4   1567      0.16  501.44  Tamil Nadu  \n",
       "9992         4           3       4   1659      0.15  597.24  Tamil Nadu  \n",
       "9993         2           3       4   1034      0.28  165.44  Tamil Nadu  \n",
       "\n",
       "[9994 rows x 13 columns]"
      ]
     },
     "execution_count": 6,
     "metadata": {},
     "output_type": "execute_result"
    }
   ],
   "source": [
    "supermarket"
   ]
  },
  {
   "cell_type": "markdown",
   "id": "9dd4b5ba",
   "metadata": {},
   "source": [
    "# Linear Regression"
   ]
  },
  {
   "cell_type": "markdown",
   "id": "af897698",
   "metadata": {},
   "source": [
    "#### Taking X as categorical data i.e \"Category\" and \"Sub Category\"\n",
    "#### Taking y as numerical data i.e \"Sales\""
   ]
  },
  {
   "cell_type": "code",
   "execution_count": 11,
   "id": "f07f96b7",
   "metadata": {},
   "outputs": [],
   "source": [
    "X = supermarket.iloc[:,9:10].values\n",
    "y = supermarket.iloc[:,2:4].values"
   ]
  },
  {
   "cell_type": "markdown",
   "id": "9fc3b049",
   "metadata": {},
   "source": [
    "#### Training and testing the dataset"
   ]
  },
  {
   "cell_type": "code",
   "execution_count": 12,
   "id": "655e329c",
   "metadata": {},
   "outputs": [],
   "source": [
    "X_train,X_test,y_train,y_test = train_test_split(X ,y, test_size = 0.2, random_state = 0)"
   ]
  },
  {
   "cell_type": "markdown",
   "id": "253b296b",
   "metadata": {},
   "source": [
    "#### Applying linear regression"
   ]
  },
  {
   "cell_type": "code",
   "execution_count": 13,
   "id": "8bc18e2b",
   "metadata": {},
   "outputs": [],
   "source": [
    "from sklearn.linear_model import LinearRegression"
   ]
  },
  {
   "cell_type": "code",
   "execution_count": 14,
   "id": "040fb776",
   "metadata": {},
   "outputs": [
    {
     "data": {
      "text/plain": [
       "LinearRegression()"
      ]
     },
     "execution_count": 14,
     "metadata": {},
     "output_type": "execute_result"
    }
   ],
   "source": [
    "regressor = LinearRegression()\n",
    "regressor.fit(X_train, y_train)         #Training the data"
   ]
  },
  {
   "cell_type": "code",
   "execution_count": 15,
   "id": "5d0cc4a9",
   "metadata": {},
   "outputs": [
    {
     "name": "stdout",
     "output_type": "stream",
     "text": [
      "[ 3.10122576 10.95507997]\n"
     ]
    }
   ],
   "source": [
    "print(regressor.intercept_)"
   ]
  },
  {
   "cell_type": "code",
   "execution_count": 16,
   "id": "e68b595e",
   "metadata": {},
   "outputs": [
    {
     "name": "stdout",
     "output_type": "stream",
     "text": [
      "[[-6.03121315e-05]\n",
      " [ 6.67756256e-05]]\n"
     ]
    }
   ],
   "source": [
    "print(regressor.coef_)"
   ]
  },
  {
   "cell_type": "code",
   "execution_count": 17,
   "id": "76196dc7",
   "metadata": {},
   "outputs": [],
   "source": [
    "y_pred = regressor.predict(X_test)"
   ]
  },
  {
   "cell_type": "markdown",
   "id": "e478868d",
   "metadata": {},
   "source": [
    "#### Finding the metric values"
   ]
  },
  {
   "cell_type": "code",
   "execution_count": 18,
   "id": "5eefdfe8",
   "metadata": {
    "scrolled": true
   },
   "outputs": [
    {
     "name": "stdout",
     "output_type": "stream",
     "text": [
      "Mean Squared Error: 24.434359410850295\n",
      "Root Mean Squared: 4.943112320274575\n",
      "Mean Absolute Error: 3.7896719471865774\n",
      "R Squared: -0.0008970778337450414\n"
     ]
    }
   ],
   "source": [
    "from sklearn import metrics\n",
    "print('Mean Squared Error:', metrics.mean_squared_error(y_test,y_pred))\n",
    "print('Root Mean Squared:', np.sqrt(metrics.mean_squared_error(y_test,y_pred)))\n",
    "print('Mean Absolute Error:', metrics.mean_absolute_error(y_test,y_pred))\n",
    "print('R Squared:', metrics.r2_score(y_test,y_pred))"
   ]
  },
  {
   "cell_type": "markdown",
   "id": "438ad75f",
   "metadata": {},
   "source": [
    "## Conclusion : This algorithm is isnt applicable due to low accuracy"
   ]
  },
  {
   "cell_type": "markdown",
   "id": "f8b32e75",
   "metadata": {},
   "source": [
    "# LOGISTIC REGRESSION"
   ]
  },
  {
   "cell_type": "markdown",
   "id": "1f352d83",
   "metadata": {},
   "source": [
    "### Taking 'a' as the values of sales and profit\n",
    "### Taking 'b' as the values of Category"
   ]
  },
  {
   "cell_type": "code",
   "execution_count": 39,
   "id": "eea312cd",
   "metadata": {},
   "outputs": [],
   "source": [
    "a = supermarket.iloc[:,9:10].values\n",
    "b = supermarket.iloc[:,2].values"
   ]
  },
  {
   "cell_type": "code",
   "execution_count": 40,
   "id": "9a1992ac",
   "metadata": {},
   "outputs": [],
   "source": [
    "a_train,a_test,b_train,b_test = train_test_split(a ,b, test_size = 0.2, random_state = 0)"
   ]
  },
  {
   "cell_type": "code",
   "execution_count": 41,
   "id": "5d558f0b",
   "metadata": {},
   "outputs": [],
   "source": [
    "sc = StandardScaler()\n",
    "a_train = sc.fit_transform(a_train)\n",
    "a_test = sc.transform(a_test)"
   ]
  },
  {
   "cell_type": "code",
   "execution_count": 42,
   "id": "a2c5510e",
   "metadata": {},
   "outputs": [
    {
     "data": {
      "text/plain": [
       "LogisticRegression()"
      ]
     },
     "execution_count": 42,
     "metadata": {},
     "output_type": "execute_result"
    }
   ],
   "source": [
    "clf = LogisticRegression()\n",
    "clf.fit(a_train,b_train)"
   ]
  },
  {
   "cell_type": "code",
   "execution_count": 43,
   "id": "93973a89",
   "metadata": {},
   "outputs": [
    {
     "name": "stdout",
     "output_type": "stream",
     "text": [
      "Accuracy score: 16.05802901450725 %\n"
     ]
    }
   ],
   "source": [
    "b_pred = clf.predict(a_test)\n",
    "print(\"Accuracy score:\", accuracy_score(b_test,b_pred)*100,\"%\")"
   ]
  },
  {
   "cell_type": "markdown",
   "id": "9f19e864",
   "metadata": {},
   "source": [
    "## Conclusion : This algorithm isnt applicable because of having less accuracy"
   ]
  },
  {
   "cell_type": "markdown",
   "id": "967c3f42",
   "metadata": {},
   "source": [
    "# Decision Tree"
   ]
  },
  {
   "cell_type": "markdown",
   "id": "0098af80",
   "metadata": {},
   "source": [
    "### Taking 'X' as the values of sales and profit\n",
    "### Taking 'y' as the values of Category"
   ]
  },
  {
   "cell_type": "code",
   "execution_count": 44,
   "id": "97f79857",
   "metadata": {},
   "outputs": [],
   "source": [
    "X = supermarket.iloc[:,9:10].values\n",
    "y = supermarket.iloc[:,2].values"
   ]
  },
  {
   "cell_type": "code",
   "execution_count": 45,
   "id": "6fb7f969",
   "metadata": {},
   "outputs": [
    {
     "data": {
      "text/plain": [
       "array([[1254],\n",
       "       [ 749],\n",
       "       [2360],\n",
       "       ...,\n",
       "       [1567],\n",
       "       [1659],\n",
       "       [1034]], dtype=int64)"
      ]
     },
     "execution_count": 45,
     "metadata": {},
     "output_type": "execute_result"
    }
   ],
   "source": [
    "X"
   ]
  },
  {
   "cell_type": "code",
   "execution_count": 46,
   "id": "4f19e08b",
   "metadata": {},
   "outputs": [
    {
     "data": {
      "text/plain": [
       "array([5, 1, 3, ..., 3, 5, 3])"
      ]
     },
     "execution_count": 46,
     "metadata": {},
     "output_type": "execute_result"
    }
   ],
   "source": [
    "y"
   ]
  },
  {
   "cell_type": "markdown",
   "id": "f3ecdc4d",
   "metadata": {},
   "source": [
    "### Training and testing the dataset"
   ]
  },
  {
   "cell_type": "code",
   "execution_count": 47,
   "id": "977e1b95",
   "metadata": {},
   "outputs": [],
   "source": [
    "X_train,X_test,y_train,y_test = train_test_split(X,y,test_size = 0.2,random_state=0)\n"
   ]
  },
  {
   "cell_type": "code",
   "execution_count": 48,
   "id": "4984ec13",
   "metadata": {},
   "outputs": [
    {
     "data": {
      "text/plain": [
       "(7995, 1)"
      ]
     },
     "execution_count": 48,
     "metadata": {},
     "output_type": "execute_result"
    }
   ],
   "source": [
    "X_train.shape"
   ]
  },
  {
   "cell_type": "code",
   "execution_count": 49,
   "id": "38b82d76",
   "metadata": {},
   "outputs": [
    {
     "data": {
      "text/plain": [
       "(1999,)"
      ]
     },
     "execution_count": 49,
     "metadata": {},
     "output_type": "execute_result"
    }
   ],
   "source": [
    "y_test.shape"
   ]
  },
  {
   "cell_type": "markdown",
   "id": "b8ea3560",
   "metadata": {},
   "source": [
    "### Applying Decision tree algorithm"
   ]
  },
  {
   "cell_type": "code",
   "execution_count": 50,
   "id": "8dbe88be",
   "metadata": {},
   "outputs": [
    {
     "data": {
      "text/plain": [
       "DecisionTreeClassifier()"
      ]
     },
     "execution_count": 50,
     "metadata": {},
     "output_type": "execute_result"
    }
   ],
   "source": [
    "from sklearn.tree import DecisionTreeClassifier\n",
    "clf = DecisionTreeClassifier()\n",
    "clf.fit(X_train,y_train)"
   ]
  },
  {
   "cell_type": "code",
   "execution_count": 51,
   "id": "0861076f",
   "metadata": {},
   "outputs": [],
   "source": [
    "y_pred = clf.predict(X_test)"
   ]
  },
  {
   "cell_type": "code",
   "execution_count": 52,
   "id": "756705f0",
   "metadata": {},
   "outputs": [],
   "source": [
    "from sklearn import metrics"
   ]
  },
  {
   "cell_type": "code",
   "execution_count": 53,
   "id": "610e1193",
   "metadata": {},
   "outputs": [
    {
     "data": {
      "text/plain": [
       "array([[83, 56, 49, 29, 27, 13, 23],\n",
       "       [67, 59, 34, 36, 38, 28, 32],\n",
       "       [64, 57, 47, 36, 33, 23, 24],\n",
       "       [68, 56, 55, 41, 16, 18, 25],\n",
       "       [75, 45, 44, 32, 30, 24, 21],\n",
       "       [61, 50, 38, 31, 32, 25, 25],\n",
       "       [66, 76, 48, 43, 27, 40, 29]], dtype=int64)"
      ]
     },
     "execution_count": 53,
     "metadata": {},
     "output_type": "execute_result"
    }
   ],
   "source": [
    "metrics.confusion_matrix(y_test,y_pred)"
   ]
  },
  {
   "cell_type": "code",
   "execution_count": 54,
   "id": "67644cd8",
   "metadata": {},
   "outputs": [
    {
     "name": "stdout",
     "output_type": "stream",
     "text": [
      "Accuracy Score:  15.70785392696348 %\n"
     ]
    }
   ],
   "source": [
    "print(\"Accuracy Score: \" ,metrics.accuracy_score(y_test,y_pred)*100,\"%\")"
   ]
  },
  {
   "cell_type": "code",
   "execution_count": 55,
   "id": "2771f1fc",
   "metadata": {
    "scrolled": true
   },
   "outputs": [
    {
     "name": "stdout",
     "output_type": "stream",
     "text": [
      "              precision    recall  f1-score   support\n",
      "\n",
      "           0       0.17      0.30      0.22       280\n",
      "           1       0.15      0.20      0.17       294\n",
      "           2       0.15      0.17      0.16       284\n",
      "           3       0.17      0.15      0.16       279\n",
      "           4       0.15      0.11      0.13       271\n",
      "           5       0.15      0.10      0.12       262\n",
      "           6       0.16      0.09      0.11       329\n",
      "\n",
      "    accuracy                           0.16      1999\n",
      "   macro avg       0.16      0.16      0.15      1999\n",
      "weighted avg       0.16      0.16      0.15      1999\n",
      "\n"
     ]
    }
   ],
   "source": [
    "print(metrics.classification_report(y_test,y_pred))"
   ]
  },
  {
   "cell_type": "markdown",
   "id": "bcc988d9",
   "metadata": {},
   "source": [
    "## Conclusion : This algorithm isnt applicable because of having less accuracy"
   ]
  },
  {
   "cell_type": "markdown",
   "id": "1dac7c43",
   "metadata": {},
   "source": [
    "# SVM"
   ]
  },
  {
   "cell_type": "code",
   "execution_count": 56,
   "id": "eee8901e",
   "metadata": {},
   "outputs": [],
   "source": [
    "from sklearn.metrics import accuracy_score,classification_report,confusion_matrix"
   ]
  },
  {
   "cell_type": "markdown",
   "id": "ec3364ba",
   "metadata": {},
   "source": [
    "### Taking 'X' as the values of sales and profit\n",
    "### Taking 'y' as the values of Category"
   ]
  },
  {
   "cell_type": "code",
   "execution_count": 57,
   "id": "bee13a27",
   "metadata": {},
   "outputs": [],
   "source": [
    "X = supermarket.iloc[:,9:12:2].values\n",
    "y = supermarket.iloc[:,2].values"
   ]
  },
  {
   "cell_type": "code",
   "execution_count": 58,
   "id": "81077e87",
   "metadata": {},
   "outputs": [],
   "source": [
    "from sklearn import svm"
   ]
  },
  {
   "cell_type": "markdown",
   "id": "15826eee",
   "metadata": {},
   "source": [
    "### Training and testing the dataset"
   ]
  },
  {
   "cell_type": "code",
   "execution_count": 59,
   "id": "d526090f",
   "metadata": {},
   "outputs": [],
   "source": [
    "X_train,X_test,y_train,y_test = train_test_split(X,y,test_size=0.2,random_state=0)"
   ]
  },
  {
   "cell_type": "code",
   "execution_count": 60,
   "id": "e9e65602",
   "metadata": {},
   "outputs": [
    {
     "name": "stdout",
     "output_type": "stream",
     "text": [
      "Defaulting to user installation because normal site-packages is not writeable\n",
      "Requirement already satisfied: dtreeviz in c:\\users\\user\\appdata\\roaming\\python\\python39\\site-packages (2.0.0)\n",
      "Requirement already satisfied: scikit-learn in c:\\programdata\\anaconda3\\lib\\site-packages (from dtreeviz) (1.0.2)\n",
      "Requirement already satisfied: matplotlib in c:\\programdata\\anaconda3\\lib\\site-packages (from dtreeviz) (3.5.2)\n",
      "Requirement already satisfied: pandas in c:\\programdata\\anaconda3\\lib\\site-packages (from dtreeviz) (1.4.4)\n",
      "Requirement already satisfied: colour in c:\\users\\user\\appdata\\roaming\\python\\python39\\site-packages (from dtreeviz) (0.1.5)\n",
      "Requirement already satisfied: numpy in c:\\programdata\\anaconda3\\lib\\site-packages (from dtreeviz) (1.21.5)\n",
      "Requirement already satisfied: pytest in c:\\programdata\\anaconda3\\lib\\site-packages (from dtreeviz) (7.1.2)\n",
      "Requirement already satisfied: graphviz>=0.9 in c:\\users\\user\\appdata\\roaming\\python\\python39\\site-packages (from dtreeviz) (0.20.1)\n",
      "Requirement already satisfied: fonttools>=4.22.0 in c:\\programdata\\anaconda3\\lib\\site-packages (from matplotlib->dtreeviz) (4.25.0)\n",
      "Requirement already satisfied: kiwisolver>=1.0.1 in c:\\programdata\\anaconda3\\lib\\site-packages (from matplotlib->dtreeviz) (1.4.2)\n",
      "Requirement already satisfied: cycler>=0.10 in c:\\programdata\\anaconda3\\lib\\site-packages (from matplotlib->dtreeviz) (0.11.0)\n",
      "Requirement already satisfied: packaging>=20.0 in c:\\programdata\\anaconda3\\lib\\site-packages (from matplotlib->dtreeviz) (21.3)\n",
      "Requirement already satisfied: pyparsing>=2.2.1 in c:\\programdata\\anaconda3\\lib\\site-packages (from matplotlib->dtreeviz) (3.0.9)\n",
      "Requirement already satisfied: pillow>=6.2.0 in c:\\programdata\\anaconda3\\lib\\site-packages (from matplotlib->dtreeviz) (9.2.0)\n",
      "Requirement already satisfied: python-dateutil>=2.7 in c:\\programdata\\anaconda3\\lib\\site-packages (from matplotlib->dtreeviz) (2.8.2)\n",
      "Requirement already satisfied: pytz>=2020.1 in c:\\programdata\\anaconda3\\lib\\site-packages (from pandas->dtreeviz) (2022.1)\n",
      "Requirement already satisfied: attrs>=19.2.0 in c:\\programdata\\anaconda3\\lib\\site-packages (from pytest->dtreeviz) (21.4.0)\n",
      "Requirement already satisfied: iniconfig in c:\\programdata\\anaconda3\\lib\\site-packages (from pytest->dtreeviz) (1.1.1)\n",
      "Requirement already satisfied: pluggy<2.0,>=0.12 in c:\\programdata\\anaconda3\\lib\\site-packages (from pytest->dtreeviz) (1.0.0)\n",
      "Requirement already satisfied: py>=1.8.2 in c:\\programdata\\anaconda3\\lib\\site-packages (from pytest->dtreeviz) (1.11.0)\n",
      "Requirement already satisfied: tomli>=1.0.0 in c:\\programdata\\anaconda3\\lib\\site-packages (from pytest->dtreeviz) (2.0.1)\n",
      "Requirement already satisfied: atomicwrites>=1.0 in c:\\programdata\\anaconda3\\lib\\site-packages (from pytest->dtreeviz) (1.4.0)\n",
      "Requirement already satisfied: colorama in c:\\programdata\\anaconda3\\lib\\site-packages (from pytest->dtreeviz) (0.4.5)\n",
      "Requirement already satisfied: threadpoolctl>=2.0.0 in c:\\programdata\\anaconda3\\lib\\site-packages (from scikit-learn->dtreeviz) (2.2.0)\n",
      "Requirement already satisfied: joblib>=0.11 in c:\\programdata\\anaconda3\\lib\\site-packages (from scikit-learn->dtreeviz) (1.1.0)\n",
      "Requirement already satisfied: scipy>=1.1.0 in c:\\programdata\\anaconda3\\lib\\site-packages (from scikit-learn->dtreeviz) (1.9.1)\n",
      "Requirement already satisfied: six>=1.5 in c:\\programdata\\anaconda3\\lib\\site-packages (from python-dateutil>=2.7->matplotlib->dtreeviz) (1.16.0)\n"
     ]
    }
   ],
   "source": [
    "!pip install dtreeviz"
   ]
  },
  {
   "cell_type": "code",
   "execution_count": 61,
   "id": "a9fdfb7e",
   "metadata": {},
   "outputs": [
    {
     "ename": "ImportError",
     "evalue": "cannot import name 'dtreeviz' from 'dtreeviz.trees' (C:\\Users\\user\\AppData\\Roaming\\Python\\Python39\\site-packages\\dtreeviz\\trees.py)",
     "output_type": "error",
     "traceback": [
      "\u001b[1;31m---------------------------------------------------------------------------\u001b[0m",
      "\u001b[1;31mImportError\u001b[0m                               Traceback (most recent call last)",
      "\u001b[1;32m~\\AppData\\Local\\Temp\\ipykernel_10816\\2499580460.py\u001b[0m in \u001b[0;36m<module>\u001b[1;34m\u001b[0m\n\u001b[0;32m      1\u001b[0m \u001b[1;32mfrom\u001b[0m \u001b[0msklearn\u001b[0m\u001b[1;33m.\u001b[0m\u001b[0mensemble\u001b[0m \u001b[1;32mimport\u001b[0m \u001b[0mRandomForestClassifier\u001b[0m\u001b[1;33m\u001b[0m\u001b[1;33m\u001b[0m\u001b[0m\n\u001b[1;32m----> 2\u001b[1;33m \u001b[1;32mfrom\u001b[0m \u001b[0mdtreeviz\u001b[0m\u001b[1;33m.\u001b[0m\u001b[0mtrees\u001b[0m \u001b[1;32mimport\u001b[0m \u001b[0mdtreeviz\u001b[0m\u001b[1;33m\u001b[0m\u001b[1;33m\u001b[0m\u001b[0m\n\u001b[0m",
      "\u001b[1;31mImportError\u001b[0m: cannot import name 'dtreeviz' from 'dtreeviz.trees' (C:\\Users\\user\\AppData\\Roaming\\Python\\Python39\\site-packages\\dtreeviz\\trees.py)"
     ]
    }
   ],
   "source": [
    "from sklearn.ensemble import RandomForestClassifier\n",
    "from dtreeviz.trees import dtreeviz"
   ]
  },
  {
   "cell_type": "markdown",
   "id": "7bbd9eaa",
   "metadata": {},
   "source": [
    "## Conclusion : Jupyter is not supporting for dtreeviz \n",
    "## For Random forest we are attaching the googlecolab file\n",
    "#                                  Thank You"
   ]
  }
 ],
 "metadata": {
  "kernelspec": {
   "display_name": "Python 3 (ipykernel)",
   "language": "python",
   "name": "python3"
  },
  "language_info": {
   "codemirror_mode": {
    "name": "ipython",
    "version": 3
   },
   "file_extension": ".py",
   "mimetype": "text/x-python",
   "name": "python",
   "nbconvert_exporter": "python",
   "pygments_lexer": "ipython3",
   "version": "3.9.13"
  }
 },
 "nbformat": 4,
 "nbformat_minor": 5
}
